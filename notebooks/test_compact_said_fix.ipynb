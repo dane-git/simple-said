{
 "cells": [
  {
   "cell_type": "code",
   "execution_count": 1,
   "id": "14656284-3b33-487d-aa79-65432c3d308b",
   "metadata": {},
   "outputs": [],
   "source": [
    "### TO REPLICATE clone simple-said into the same parent directory as keripy: then run all cells\n",
    "\n",
    "import sys\n",
    "import os\n",
    "import pprint\n",
    "pp = pprint.PrettyPrinter(indent=2, sort_dicts=False)\n",
    "\n",
    "\n",
    "# IMPORT SIMPLE_SAID UTILS\n",
    "\n",
    "# Use the current working directory instead of __file__ when running interactively\n",
    "base_path = os.getcwd()\n",
    "\n",
    "# Construct the path to the ../src directory\n",
    "relative_path = os.path.abspath(os.path.join(base_path, '../src'))\n",
    "sys.path.append(relative_path)\n",
    "import utils as u\n"
   ]
  },
  {
   "cell_type": "code",
   "execution_count": 2,
   "id": "db6fe427-ef13-428c-ab7a-cb417927ef34",
   "metadata": {},
   "outputs": [
    {
     "data": {
      "text/plain": [
       "'1.2.0-rc1'"
      ]
     },
     "execution_count": 2,
     "metadata": {},
     "output_type": "execute_result"
    }
   ],
   "source": [
    "## IMPORT KERIPY \n",
    "relative_path = os.path.abspath(os.path.join(base_path, '../../keripy'))\n",
    "sys.path.append(relative_path)\n",
    "\n",
    "from src.keri.core import coring\n",
    "from src import keri\n",
    "keri.__version__"
   ]
  },
  {
   "cell_type": "code",
   "execution_count": 3,
   "id": "40e9c294-bc04-4ac4-933e-94eeff1c723d",
   "metadata": {},
   "outputs": [],
   "source": [
    "# EXAMPLE ACDC with deep nested said fields:\n",
    "example = {'v': 'ACDC10JSON0008f0_',\n",
    " 'd': 'ECGJu8ZBoPkm2-fjJ_J24VtvW_wbeSiUo-MFp-lBMpEz',\n",
    " 'i': 'EKXPX7hWw8KK5Y_Mxs2TOuCrGdN45vPIZ78NofRlVBws',\n",
    " 'ri': 'EuqwB_iOD86eK0ynAhA6AYwWvPeBhvmbcmOD-9cCmiVU',\n",
    " 's': 'ELG17Q0M-uLZcjidzVbF7KBkoUhZa1ie3Az3Q_8aYi8s',\n",
    " 'a': {'d': 'EHsnk_lGaeL4F7sAuG9Hz9UN_diVMfLxXd_wzVIGCkX6',\n",
    "  'dt': '2022-08-25T14:07:30.536257+00:00',\n",
    "  'i': 'EY4ldIBDZP4Tpnm3RX320BO0yz8Uz2nUSN-C409GnCJM',\n",
    "  'AID': 'Esf8b_AngI1d0KbOFjPGIfpVani0HTagWeaYTLs14PlE',\n",
    "  'LEI': '6383001AJTYIGC8Y1X37',\n",
    "  'personLegalName': 'John Smith',\n",
    "  'engagementContextRole': 'Chief Executive Officer',\n",
    "  'D': {'d': 'EPEeGpDroK50eKwPBfLuSgkvEKiEAzDN6mkskS9pjdYy',\n",
    "   'le': {'n': 'ESyLzoJC4L_1abXOEN4f6uNZCmhqyEHg2geBHFhJ8KDs',\n",
    "    's': 'ENPXp1vQzRF6JwIuS-mp2U8Uf1MoADoP_GqQ62VsDZWY'}}},\n",
    " 'e': {'d': 'EPEeGpDroK50eKwPBfLuSgkvEKiEAzDN6mkskS9pjdYy',\n",
    "  'le': {'n': 'ESyLzoJC4L_1abXOEN4f6uNZCmhqyEHg2geBHFhJ8KDs',\n",
    "   's': 'ENPXp1vQzRF6JwIuS-mp2U8Uf1MoADoP_GqQ62VsDZWY'}},\n",
    " 'r': {'d': 'EKHMDCNFlMBaMdDOq5Pf_vGMxkTqrDMrTx_28cZZJCcW',\n",
    "  'usageDisclaimer': {'l': 'Usage of a valid, unexpired, and non-revoked vLEI Credential, as defined in the associated Ecosystem Governance Framework, does not assert that the Legal Entity is trustworthy, honest, reputable in its business dealings, safe to do business with, or compliant with any laws or that an implied or expressly intended purpose will be fulfilled.'},\n",
    "  'issuanceDisclaimer': {'l': 'All information in a valid, unexpired, and non-revoked vLEI Credential, as defined in the associated Ecosystem Governance Framework, is accurate as of the date the validation process was complete. The vLEI Credential has been issued to the legal entity or person named in the vLEI Credential as the subject; and the qualified vLEI Issuer exercised reasonable care to perform the validation process set forth in the vLEI Ecosystem Governance Framework.'},\n",
    "  'privacyDisclaimer': {'l': 'Privacy Considerations are applicable to QVI ECR AUTH vLEI Credentials.  It is the sole responsibility of QVIs as Issuees of QVI ECR AUTH vLEI Credentials to present these Credentials in a privacy-preserving manner using the mechanisms provided in the Issuance and Presentation Exchange (IPEX) protocol specification and the Authentic Chained Data Container (ACDC) specification.  https://github.com/WebOfTrust/IETF-IPEX and https://github.com/trustoverip/tswg-acdc-specification.'}}}"
   ]
  },
  {
   "cell_type": "code",
   "execution_count": 4,
   "id": "ca7b6d5c-d596-415a-bf2c-dea473d2cde6",
   "metadata": {},
   "outputs": [
    {
     "name": "stdout",
     "output_type": "stream",
     "text": [
      "{\"v\":\"ACDC10JSON0008f0_\",\"d\":\"ECGJu8ZBoPkm2-fjJ_J24VtvW_wbeSiUo-MFp-lBMpEz\",\"i\":\"EKXPX7hWw8KK5Y_Mxs2TOuCrGdN45vPIZ78NofRlVBws\",\"ri\":\"EuqwB_iOD86eK0ynAhA6AYwWvPeBhvmbcmOD-9cCmiVU\",\"s\":\"ELG17Q0M-uLZcjidzVbF7KBkoUhZa1ie3Az3Q_8aYi8s\",\"a\":{\"d\":\"EHsnk_lGaeL4F7sAuG9Hz9UN_diVMfLxXd_wzVIGCkX6\",\"dt\":\"2022-08-25T14:07:30.536257+00:00\",\"i\":\"EY4ldIBDZP4Tpnm3RX320BO0yz8Uz2nUSN-C409GnCJM\",\"AID\":\"Esf8b_AngI1d0KbOFjPGIfpVani0HTagWeaYTLs14PlE\",\"LEI\":\"6383001AJTYIGC8Y1X37\",\"personLegalName\":\"John Smith\",\"engagementContextRole\":\"Chief Executive Officer\",\"D\":{\"d\":\"EPEeGpDroK50eKwPBfLuSgkvEKiEAzDN6mkskS9pjdYy\",\"le\":{\"n\":\"ESyLzoJC4L_1abXOEN4f6uNZCmhqyEHg2geBHFhJ8KDs\",\"s\":\"ENPXp1vQzRF6JwIuS-mp2U8Uf1MoADoP_GqQ62VsDZWY\"}}},\"e\":{\"d\":\"EPEeGpDroK50eKwPBfLuSgkvEKiEAzDN6mkskS9pjdYy\",\"le\":{\"n\":\"ESyLzoJC4L_1abXOEN4f6uNZCmhqyEHg2geBHFhJ8KDs\",\"s\":\"ENPXp1vQzRF6JwIuS-mp2U8Uf1MoADoP_GqQ62VsDZWY\"}},\"r\":{\"d\":\"EKHMDCNFlMBaMdDOq5Pf_vGMxkTqrDMrTx_28cZZJCcW\",\"usageDisclaimer\":{\"l\":\"Usage of a valid, unexpired, and non-revoked vLEI Credential, as defined in the associated Ecosystem Governance Framework, does not assert that the Legal Entity is trustworthy, honest, reputable in its business dealings, safe to do business with, or compliant with any laws or that an implied or expressly intended purpose will be fulfilled.\"},\"issuanceDisclaimer\":{\"l\":\"All information in a valid, unexpired, and non-revoked vLEI Credential, as defined in the associated Ecosystem Governance Framework, is accurate as of the date the validation process was complete. The vLEI Credential has been issued to the legal entity or person named in the vLEI Credential as the subject; and the qualified vLEI Issuer exercised reasonable care to perform the validation process set forth in the vLEI Ecosystem Governance Framework.\"},\"privacyDisclaimer\":{\"l\":\"Privacy Considerations are applicable to QVI ECR AUTH vLEI Credentials.  It is the sole responsibility of QVIs as Issuees of QVI ECR AUTH vLEI Credentials to present these Credentials in a privacy-preserving manner using the mechanisms provided in the Issuance and Presentation Exchange (IPEX) protocol specification and the Authentic Chained Data Container (ACDC) specification.  https://github.com/WebOfTrust/IETF-IPEX and https://github.com/trustoverip/tswg-acdc-specification.\"}}}\n",
      "\n",
      "2288\n"
     ]
    },
    {
     "data": {
      "text/plain": [
       "{'protocol': 'ACDC',\n",
       " 'version': '10',\n",
       " 'kind': 'JSON',\n",
       " '_size': '0008f0',\n",
       " 'size': 2288}"
      ]
     },
     "execution_count": 4,
     "metadata": {},
     "output_type": "execute_result"
    }
   ],
   "source": [
    "ex = u.dict_to_said_str(example)\n",
    "print(ex)\n",
    "print()\n",
    "print(len(ex))\n",
    "v_info = u.get_version_string_info(example['v'])\n",
    "v_info"
   ]
  },
  {
   "cell_type": "code",
   "execution_count": 5,
   "id": "f5e582a0-3ba8-4311-b11e-b7dcbbba23b6",
   "metadata": {},
   "outputs": [
    {
     "data": {
      "text/plain": [
       "{'v': 'ACDC10JSON0008f0_',\n",
       " 'd': 'ECGJu8ZBoPkm2-fjJ_J24VtvW_wbeSiUo-MFp-lBMpEz',\n",
       " 'i': 'EKXPX7hWw8KK5Y_Mxs2TOuCrGdN45vPIZ78NofRlVBws',\n",
       " 'ri': 'EuqwB_iOD86eK0ynAhA6AYwWvPeBhvmbcmOD-9cCmiVU',\n",
       " 's': 'ELG17Q0M-uLZcjidzVbF7KBkoUhZa1ie3Az3Q_8aYi8s',\n",
       " 'a': 'EHsnk_lGaeL4F7sAuG9Hz9UN_diVMfLxXd_wzVIGCkX6',\n",
       " 'e': 'EPEeGpDroK50eKwPBfLuSgkvEKiEAzDN6mkskS9pjdYy',\n",
       " 'r': 'EKHMDCNFlMBaMdDOq5Pf_vGMxkTqrDMrTx_28cZZJCcW'}"
      ]
     },
     "execution_count": 5,
     "metadata": {},
     "output_type": "execute_result"
    }
   ],
   "source": [
    "example_compact = u.collapse(example, 'd')\n",
    "example_compact"
   ]
  },
  {
   "cell_type": "code",
   "execution_count": 6,
   "id": "c1d2922a-278e-4065-9035-a41911600760",
   "metadata": {},
   "outputs": [
    {
     "name": "stdout",
     "output_type": "stream",
     "text": [
      "EGs7V0dEkgnS72nCOxzu7ELbjIUfvXj0XpeK07VsUk2e\n"
     ]
    },
    {
     "data": {
      "text/plain": [
       "{'v': 'ACDC10JSON0008f0_',\n",
       " 'd': 'EGs7V0dEkgnS72nCOxzu7ELbjIUfvXj0XpeK07VsUk2e',\n",
       " 'i': 'EKXPX7hWw8KK5Y_Mxs2TOuCrGdN45vPIZ78NofRlVBws',\n",
       " 'ri': 'EuqwB_iOD86eK0ynAhA6AYwWvPeBhvmbcmOD-9cCmiVU',\n",
       " 's': 'ELG17Q0M-uLZcjidzVbF7KBkoUhZa1ie3Az3Q_8aYi8s',\n",
       " 'a': {'d': 'EHsnk_lGaeL4F7sAuG9Hz9UN_diVMfLxXd_wzVIGCkX6',\n",
       "  'dt': '2022-08-25T14:07:30.536257+00:00',\n",
       "  'i': 'EY4ldIBDZP4Tpnm3RX320BO0yz8Uz2nUSN-C409GnCJM',\n",
       "  'AID': 'Esf8b_AngI1d0KbOFjPGIfpVani0HTagWeaYTLs14PlE',\n",
       "  'LEI': '6383001AJTYIGC8Y1X37',\n",
       "  'personLegalName': 'John Smith',\n",
       "  'engagementContextRole': 'Chief Executive Officer',\n",
       "  'D': {'d': 'EPEeGpDroK50eKwPBfLuSgkvEKiEAzDN6mkskS9pjdYy',\n",
       "   'le': {'n': 'ESyLzoJC4L_1abXOEN4f6uNZCmhqyEHg2geBHFhJ8KDs',\n",
       "    's': 'ENPXp1vQzRF6JwIuS-mp2U8Uf1MoADoP_GqQ62VsDZWY'}}},\n",
       " 'e': {'d': 'EPEeGpDroK50eKwPBfLuSgkvEKiEAzDN6mkskS9pjdYy',\n",
       "  'le': {'n': 'ESyLzoJC4L_1abXOEN4f6uNZCmhqyEHg2geBHFhJ8KDs',\n",
       "   's': 'ENPXp1vQzRF6JwIuS-mp2U8Uf1MoADoP_GqQ62VsDZWY'}},\n",
       " 'r': {'d': 'EKHMDCNFlMBaMdDOq5Pf_vGMxkTqrDMrTx_28cZZJCcW',\n",
       "  'usageDisclaimer': {'l': 'Usage of a valid, unexpired, and non-revoked vLEI Credential, as defined in the associated Ecosystem Governance Framework, does not assert that the Legal Entity is trustworthy, honest, reputable in its business dealings, safe to do business with, or compliant with any laws or that an implied or expressly intended purpose will be fulfilled.'},\n",
       "  'issuanceDisclaimer': {'l': 'All information in a valid, unexpired, and non-revoked vLEI Credential, as defined in the associated Ecosystem Governance Framework, is accurate as of the date the validation process was complete. The vLEI Credential has been issued to the legal entity or person named in the vLEI Credential as the subject; and the qualified vLEI Issuer exercised reasonable care to perform the validation process set forth in the vLEI Ecosystem Governance Framework.'},\n",
       "  'privacyDisclaimer': {'l': 'Privacy Considerations are applicable to QVI ECR AUTH vLEI Credentials.  It is the sole responsibility of QVIs as Issuees of QVI ECR AUTH vLEI Credentials to present these Credentials in a privacy-preserving manner using the mechanisms provided in the Issuance and Presentation Exchange (IPEX) protocol specification and the Authentic Chained Data Container (ACDC) specification.  https://github.com/WebOfTrust/IETF-IPEX and https://github.com/trustoverip/tswg-acdc-specification.'}}}"
      ]
     },
     "execution_count": 6,
     "metadata": {},
     "output_type": "execute_result"
    }
   ],
   "source": [
    "# example_said[0].__dict__\n",
    "keripy_said = coring.Saider.saidify(example)\n",
    "print(keripy_said[0].qb64)\n",
    "keripy_said[1]"
   ]
  },
  {
   "cell_type": "code",
   "execution_count": 7,
   "id": "87173cc9-68ba-40b4-99e0-7ae096427702",
   "metadata": {},
   "outputs": [
    {
     "name": "stdout",
     "output_type": "stream",
     "text": [
      "EGs7V0dEkgnS72nCOxzu7ELbjIUfvXj0XpeK07VsUk2e\n",
      "True\n"
     ]
    }
   ],
   "source": [
    "## NO recursive / compacting\n",
    "simple_said = u.get_blake3_256_said(example, 'd')\n",
    "print(simple_said)\n",
    "\n",
    "## THIS MATCHES KERIPY.  \n",
    "### get_blake3_256_said has no recursion or compacting, it only calculating said on root level 'd' field label\n",
    "print(keripy_said[0].qb64 == simple_said)"
   ]
  },
  {
   "cell_type": "code",
   "execution_count": 8,
   "id": "2d3bf94d-1c5e-4398-a7db-74b843eb6d4f",
   "metadata": {},
   "outputs": [],
   "source": [
    "# this could be updated to have arg of what hash algorithm to use\n",
    "\n",
    "def replace_label_with_said_and_track_paths(obj, label, debug=False):\n",
    "    \"\"\"\n",
    "    Recursively replaces the specified label's value with a computed SAID in a nested dictionary structure,\n",
    "    and tracks the paths to each label instance in depth-first order.\n",
    "\n",
    "    Parameters:\n",
    "        obj (dict): The input dictionary to process.\n",
    "        label (str): The field name whose value should be replaced by the computed SAID.\n",
    "        debug (bool): Flag for debugging output.\n",
    "\n",
    "    Returns:\n",
    "        dict: The updated dictionary with computed SAIDs replacing the label values.\n",
    "        list: A list of paths to each label instance, ordered by depth (deepest first).\n",
    "    \"\"\"\n",
    "    paths = []  # List to store paths to each label instance\n",
    "\n",
    "    def recursive_replace(data, path=\"\"):\n",
    "        if isinstance(data, dict):\n",
    "            updated_dict = {}\n",
    "            for key, value in data.items():\n",
    "                current_path = f\"{path}.{key}\" if path else key\n",
    "                if key == label:\n",
    "                    # Compute SAID for the current nested structure\n",
    "                    compacted = u.collapse(data, label)\n",
    "                    computed_said = u.get_blake3_256_said(compacted, label, debug)\n",
    "                    updated_dict[key] = computed_said\n",
    "                    if debug:\n",
    "                        print(f\"Computed SAID for {current_path}: {computed_said}\")\n",
    "\n",
    "                    # Add path to paths list\n",
    "                    paths.append(current_path)\n",
    "                else:\n",
    "                    # Recursively process nested dictionaries or lists\n",
    "                    updated_dict[key] = recursive_replace(value, current_path)\n",
    "            return updated_dict\n",
    "        elif isinstance(data, list):\n",
    "            return [recursive_replace(item, f\"{path}[{i}]\") for i, item in enumerate(data)]\n",
    "        else:\n",
    "            return data\n",
    "\n",
    "    # Start recursive replacement\n",
    "    updated_data = recursive_replace(obj)\n",
    "    # calculated final said\n",
    "    compacted = u.collapse(updated_data, label)\n",
    "    final_said = u.get_blake3_256_said(compacted, label, debug)\n",
    "    updated_data[label] = final_said\n",
    "\n",
    "    # Sort paths by depth (deepest paths first)\n",
    "    paths.sort(key=lambda x: x.count('.'), reverse=True)\n",
    "\n",
    "    return final_said, updated_data, paths\n",
    "to_replace = example.copy()\n",
    "final_said, replaced, said_paths = replace_label_with_said_and_track_paths(to_replace, 'd')\n"
   ]
  },
  {
   "cell_type": "code",
   "execution_count": 9,
   "id": "407cfe5e-c489-4128-8fbc-f227f5eb07bd",
   "metadata": {},
   "outputs": [
    {
     "name": "stdout",
     "output_type": "stream",
     "text": [
      "EKHT7w0EEbEeq77-XrJ3SYBSgjTCgiDkK9FlbYKPbZMx\n"
     ]
    },
    {
     "data": {
      "text/plain": [
       "{'v': 'ACDC10JSON0008f0_',\n",
       " 'd': 'EKHT7w0EEbEeq77-XrJ3SYBSgjTCgiDkK9FlbYKPbZMx',\n",
       " 'i': 'EKXPX7hWw8KK5Y_Mxs2TOuCrGdN45vPIZ78NofRlVBws',\n",
       " 'ri': 'EuqwB_iOD86eK0ynAhA6AYwWvPeBhvmbcmOD-9cCmiVU',\n",
       " 's': 'ELG17Q0M-uLZcjidzVbF7KBkoUhZa1ie3Az3Q_8aYi8s',\n",
       " 'a': {'d': 'EHsnk_lGaeL4F7sAuG9Hz9UN_diVMfLxXd_wzVIGCkX6',\n",
       "  'dt': '2022-08-25T14:07:30.536257+00:00',\n",
       "  'i': 'EY4ldIBDZP4Tpnm3RX320BO0yz8Uz2nUSN-C409GnCJM',\n",
       "  'AID': 'Esf8b_AngI1d0KbOFjPGIfpVani0HTagWeaYTLs14PlE',\n",
       "  'LEI': '6383001AJTYIGC8Y1X37',\n",
       "  'personLegalName': 'John Smith',\n",
       "  'engagementContextRole': 'Chief Executive Officer',\n",
       "  'D': {'d': 'EPEeGpDroK50eKwPBfLuSgkvEKiEAzDN6mkskS9pjdYy',\n",
       "   'le': {'n': 'ESyLzoJC4L_1abXOEN4f6uNZCmhqyEHg2geBHFhJ8KDs',\n",
       "    's': 'ENPXp1vQzRF6JwIuS-mp2U8Uf1MoADoP_GqQ62VsDZWY'}}},\n",
       " 'e': {'d': 'EPEeGpDroK50eKwPBfLuSgkvEKiEAzDN6mkskS9pjdYy',\n",
       "  'le': {'n': 'ESyLzoJC4L_1abXOEN4f6uNZCmhqyEHg2geBHFhJ8KDs',\n",
       "   's': 'ENPXp1vQzRF6JwIuS-mp2U8Uf1MoADoP_GqQ62VsDZWY'}},\n",
       " 'r': {'d': 'EKHMDCNFlMBaMdDOq5Pf_vGMxkTqrDMrTx_28cZZJCcW',\n",
       "  'usageDisclaimer': {'l': 'Usage of a valid, unexpired, and non-revoked vLEI Credential, as defined in the associated Ecosystem Governance Framework, does not assert that the Legal Entity is trustworthy, honest, reputable in its business dealings, safe to do business with, or compliant with any laws or that an implied or expressly intended purpose will be fulfilled.'},\n",
       "  'issuanceDisclaimer': {'l': 'All information in a valid, unexpired, and non-revoked vLEI Credential, as defined in the associated Ecosystem Governance Framework, is accurate as of the date the validation process was complete. The vLEI Credential has been issued to the legal entity or person named in the vLEI Credential as the subject; and the qualified vLEI Issuer exercised reasonable care to perform the validation process set forth in the vLEI Ecosystem Governance Framework.'},\n",
       "  'privacyDisclaimer': {'l': 'Privacy Considerations are applicable to QVI ECR AUTH vLEI Credentials.  It is the sole responsibility of QVIs as Issuees of QVI ECR AUTH vLEI Credentials to present these Credentials in a privacy-preserving manner using the mechanisms provided in the Issuance and Presentation Exchange (IPEX) protocol specification and the Authentic Chained Data Container (ACDC) specification.  https://github.com/WebOfTrust/IETF-IPEX and https://github.com/trustoverip/tswg-acdc-specification.'}}}"
      ]
     },
     "execution_count": 9,
     "metadata": {},
     "output_type": "execute_result"
    }
   ],
   "source": [
    "print(final_said)\n",
    "replaced"
   ]
  },
  {
   "cell_type": "code",
   "execution_count": 10,
   "id": "3c9749cf-f833-4777-b43b-4b1701be622c",
   "metadata": {},
   "outputs": [
    {
     "data": {
      "text/plain": [
       "{'v': 'ACDC10JSON0008f0_',\n",
       " 'd': 'EKHT7w0EEbEeq77-XrJ3SYBSgjTCgiDkK9FlbYKPbZMx',\n",
       " 'i': 'EKXPX7hWw8KK5Y_Mxs2TOuCrGdN45vPIZ78NofRlVBws',\n",
       " 'ri': 'EuqwB_iOD86eK0ynAhA6AYwWvPeBhvmbcmOD-9cCmiVU',\n",
       " 's': 'ELG17Q0M-uLZcjidzVbF7KBkoUhZa1ie3Az3Q_8aYi8s',\n",
       " 'a': 'EHsnk_lGaeL4F7sAuG9Hz9UN_diVMfLxXd_wzVIGCkX6',\n",
       " 'e': 'EPEeGpDroK50eKwPBfLuSgkvEKiEAzDN6mkskS9pjdYy',\n",
       " 'r': 'EKHMDCNFlMBaMdDOq5Pf_vGMxkTqrDMrTx_28cZZJCcW'}"
      ]
     },
     "execution_count": 10,
     "metadata": {},
     "output_type": "execute_result"
    }
   ],
   "source": [
    "replaced_compact = u.collapse(replaced, 'd')\n",
    "replaced_compact"
   ]
  },
  {
   "cell_type": "code",
   "execution_count": 11,
   "id": "071081d1-4777-488a-989c-510c52657e6d",
   "metadata": {},
   "outputs": [],
   "source": [
    "## manually check the nested saids\n",
    "manual = example.copy()"
   ]
  },
  {
   "cell_type": "code",
   "execution_count": 12,
   "id": "65a21554-0bdc-4c2e-8330-df508e50a064",
   "metadata": {},
   "outputs": [
    {
     "name": "stdout",
     "output_type": "stream",
     "text": [
      "D\n",
      "{ 'd': 'EPEeGpDroK50eKwPBfLuSgkvEKiEAzDN6mkskS9pjdYy',\n",
      "  'le': { 'n': 'ESyLzoJC4L_1abXOEN4f6uNZCmhqyEHg2geBHFhJ8KDs',\n",
      "          's': 'ENPXp1vQzRF6JwIuS-mp2U8Uf1MoADoP_GqQ62VsDZWY'}}\n",
      "\n",
      "keripy\t\t EPEeGpDroK50eKwPBfLuSgkvEKiEAzDN6mkskS9pjdYy\n",
      "simple-said\t EPEeGpDroK50eKwPBfLuSgkvEKiEAzDN6mkskS9pjdYy\n",
      "True\n",
      "{ 'v': 'ACDC10JSON0008f0_',\n",
      "  'd': 'ECGJu8ZBoPkm2-fjJ_J24VtvW_wbeSiUo-MFp-lBMpEz',\n",
      "  'i': 'EKXPX7hWw8KK5Y_Mxs2TOuCrGdN45vPIZ78NofRlVBws',\n",
      "  'ri': 'EuqwB_iOD86eK0ynAhA6AYwWvPeBhvmbcmOD-9cCmiVU',\n",
      "  's': 'ELG17Q0M-uLZcjidzVbF7KBkoUhZa1ie3Az3Q_8aYi8s',\n",
      "  'a': { 'd': 'EHsnk_lGaeL4F7sAuG9Hz9UN_diVMfLxXd_wzVIGCkX6',\n",
      "         'dt': '2022-08-25T14:07:30.536257+00:00',\n",
      "         'i': 'EY4ldIBDZP4Tpnm3RX320BO0yz8Uz2nUSN-C409GnCJM',\n",
      "         'AID': 'Esf8b_AngI1d0KbOFjPGIfpVani0HTagWeaYTLs14PlE',\n",
      "         'LEI': '6383001AJTYIGC8Y1X37',\n",
      "         'personLegalName': 'John Smith',\n",
      "         'engagementContextRole': 'Chief Executive Officer',\n",
      "         'D': 'EPEeGpDroK50eKwPBfLuSgkvEKiEAzDN6mkskS9pjdYy'},\n",
      "  'e': { 'd': 'EPEeGpDroK50eKwPBfLuSgkvEKiEAzDN6mkskS9pjdYy',\n",
      "         'le': { 'n': 'ESyLzoJC4L_1abXOEN4f6uNZCmhqyEHg2geBHFhJ8KDs',\n",
      "                 's': 'ENPXp1vQzRF6JwIuS-mp2U8Uf1MoADoP_GqQ62VsDZWY'}},\n",
      "  'r': { 'd': 'EKHMDCNFlMBaMdDOq5Pf_vGMxkTqrDMrTx_28cZZJCcW',\n",
      "         'usageDisclaimer': { 'l': 'Usage of a valid, unexpired, and '\n",
      "                                   'non-revoked vLEI Credential, as defined in '\n",
      "                                   'the associated Ecosystem Governance '\n",
      "                                   'Framework, does not assert that the Legal '\n",
      "                                   'Entity is trustworthy, honest, reputable '\n",
      "                                   'in its business dealings, safe to do '\n",
      "                                   'business with, or compliant with any laws '\n",
      "                                   'or that an implied or expressly intended '\n",
      "                                   'purpose will be fulfilled.'},\n",
      "         'issuanceDisclaimer': { 'l': 'All information in a valid, unexpired, '\n",
      "                                      'and non-revoked vLEI Credential, as '\n",
      "                                      'defined in the associated Ecosystem '\n",
      "                                      'Governance Framework, is accurate as of '\n",
      "                                      'the date the validation process was '\n",
      "                                      'complete. The vLEI Credential has been '\n",
      "                                      'issued to the legal entity or person '\n",
      "                                      'named in the vLEI Credential as the '\n",
      "                                      'subject; and the qualified vLEI Issuer '\n",
      "                                      'exercised reasonable care to perform '\n",
      "                                      'the validation process set forth in the '\n",
      "                                      'vLEI Ecosystem Governance Framework.'},\n",
      "         'privacyDisclaimer': { 'l': 'Privacy Considerations are applicable to '\n",
      "                                     'QVI ECR AUTH vLEI Credentials.  It is '\n",
      "                                     'the sole responsibility of QVIs as '\n",
      "                                     'Issuees of QVI ECR AUTH vLEI Credentials '\n",
      "                                     'to present these Credentials in a '\n",
      "                                     'privacy-preserving manner using the '\n",
      "                                     'mechanisms provided in the Issuance and '\n",
      "                                     'Presentation Exchange (IPEX) protocol '\n",
      "                                     'specification and the Authentic Chained '\n",
      "                                     'Data Container (ACDC) specification.  '\n",
      "                                     'https://github.com/WebOfTrust/IETF-IPEX '\n",
      "                                     'and '\n",
      "                                     'https://github.com/trustoverip/tswg-acdc-specification.'}}}\n"
     ]
    }
   ],
   "source": [
    "# get nested dict with said field\n",
    "D = manual['a']['D']\n",
    "print('D')\n",
    "pp.pprint(D)\n",
    "D_said  = u.get_blake3_256_said(D, 'd')\n",
    "k_D_said = coring.Saider.saidify(D)\n",
    "print()\n",
    "print('keripy\\t\\t', k_D_said[0].qb64)\n",
    "print('simple-said\\t', D_said)\n",
    "print(k_D_said[0].qb64 == D_said)\n",
    "## replace with caclulated said to compactify\n",
    "manual['a']['D'] = D_said\n",
    "pp.pprint(manual)"
   ]
  },
  {
   "cell_type": "code",
   "execution_count": 13,
   "id": "eb5e25a7-d679-48c4-b9a6-6cebfcad29f4",
   "metadata": {},
   "outputs": [
    {
     "name": "stdout",
     "output_type": "stream",
     "text": [
      "a\n",
      "{ 'd': 'EHsnk_lGaeL4F7sAuG9Hz9UN_diVMfLxXd_wzVIGCkX6',\n",
      "  'dt': '2022-08-25T14:07:30.536257+00:00',\n",
      "  'i': 'EY4ldIBDZP4Tpnm3RX320BO0yz8Uz2nUSN-C409GnCJM',\n",
      "  'AID': 'Esf8b_AngI1d0KbOFjPGIfpVani0HTagWeaYTLs14PlE',\n",
      "  'LEI': '6383001AJTYIGC8Y1X37',\n",
      "  'personLegalName': 'John Smith',\n",
      "  'engagementContextRole': 'Chief Executive Officer',\n",
      "  'D': 'EPEeGpDroK50eKwPBfLuSgkvEKiEAzDN6mkskS9pjdYy'}\n",
      "\n",
      "keripy\t\t EHsnk_lGaeL4F7sAuG9Hz9UN_diVMfLxXd_wzVIGCkX6\n",
      "simple-said\t EHsnk_lGaeL4F7sAuG9Hz9UN_diVMfLxXd_wzVIGCkX6\n",
      "True\n",
      "{ 'v': 'ACDC10JSON0008f0_',\n",
      "  'd': 'ECGJu8ZBoPkm2-fjJ_J24VtvW_wbeSiUo-MFp-lBMpEz',\n",
      "  'i': 'EKXPX7hWw8KK5Y_Mxs2TOuCrGdN45vPIZ78NofRlVBws',\n",
      "  'ri': 'EuqwB_iOD86eK0ynAhA6AYwWvPeBhvmbcmOD-9cCmiVU',\n",
      "  's': 'ELG17Q0M-uLZcjidzVbF7KBkoUhZa1ie3Az3Q_8aYi8s',\n",
      "  'a': 'EHsnk_lGaeL4F7sAuG9Hz9UN_diVMfLxXd_wzVIGCkX6',\n",
      "  'e': { 'd': 'EPEeGpDroK50eKwPBfLuSgkvEKiEAzDN6mkskS9pjdYy',\n",
      "         'le': { 'n': 'ESyLzoJC4L_1abXOEN4f6uNZCmhqyEHg2geBHFhJ8KDs',\n",
      "                 's': 'ENPXp1vQzRF6JwIuS-mp2U8Uf1MoADoP_GqQ62VsDZWY'}},\n",
      "  'r': { 'd': 'EKHMDCNFlMBaMdDOq5Pf_vGMxkTqrDMrTx_28cZZJCcW',\n",
      "         'usageDisclaimer': { 'l': 'Usage of a valid, unexpired, and '\n",
      "                                   'non-revoked vLEI Credential, as defined in '\n",
      "                                   'the associated Ecosystem Governance '\n",
      "                                   'Framework, does not assert that the Legal '\n",
      "                                   'Entity is trustworthy, honest, reputable '\n",
      "                                   'in its business dealings, safe to do '\n",
      "                                   'business with, or compliant with any laws '\n",
      "                                   'or that an implied or expressly intended '\n",
      "                                   'purpose will be fulfilled.'},\n",
      "         'issuanceDisclaimer': { 'l': 'All information in a valid, unexpired, '\n",
      "                                      'and non-revoked vLEI Credential, as '\n",
      "                                      'defined in the associated Ecosystem '\n",
      "                                      'Governance Framework, is accurate as of '\n",
      "                                      'the date the validation process was '\n",
      "                                      'complete. The vLEI Credential has been '\n",
      "                                      'issued to the legal entity or person '\n",
      "                                      'named in the vLEI Credential as the '\n",
      "                                      'subject; and the qualified vLEI Issuer '\n",
      "                                      'exercised reasonable care to perform '\n",
      "                                      'the validation process set forth in the '\n",
      "                                      'vLEI Ecosystem Governance Framework.'},\n",
      "         'privacyDisclaimer': { 'l': 'Privacy Considerations are applicable to '\n",
      "                                     'QVI ECR AUTH vLEI Credentials.  It is '\n",
      "                                     'the sole responsibility of QVIs as '\n",
      "                                     'Issuees of QVI ECR AUTH vLEI Credentials '\n",
      "                                     'to present these Credentials in a '\n",
      "                                     'privacy-preserving manner using the '\n",
      "                                     'mechanisms provided in the Issuance and '\n",
      "                                     'Presentation Exchange (IPEX) protocol '\n",
      "                                     'specification and the Authentic Chained '\n",
      "                                     'Data Container (ACDC) specification.  '\n",
      "                                     'https://github.com/WebOfTrust/IETF-IPEX '\n",
      "                                     'and '\n",
      "                                     'https://github.com/trustoverip/tswg-acdc-specification.'}}}\n"
     ]
    }
   ],
   "source": [
    "# get nested dict with said field\n",
    "a = manual['a']\n",
    "print('a')\n",
    "pp.pprint(a)\n",
    "a_said  = u.get_blake3_256_said(a, 'd')\n",
    "k_a_said = coring.Saider.saidify(a)\n",
    "print()\n",
    "print('keripy\\t\\t', k_a_said[0].qb64)\n",
    "print('simple-said\\t', a_said)\n",
    "print(k_a_said[0].qb64 == a_said)\n",
    "## replace with caclulated said to compactify\n",
    "manual['a'] = a_said\n",
    "pp.pprint(manual)"
   ]
  },
  {
   "cell_type": "code",
   "execution_count": 14,
   "id": "f7b079e8-ea57-47db-8caf-641f6846b6e0",
   "metadata": {},
   "outputs": [
    {
     "name": "stdout",
     "output_type": "stream",
     "text": [
      "e\n",
      "{ 'd': 'EPEeGpDroK50eKwPBfLuSgkvEKiEAzDN6mkskS9pjdYy',\n",
      "  'le': { 'n': 'ESyLzoJC4L_1abXOEN4f6uNZCmhqyEHg2geBHFhJ8KDs',\n",
      "          's': 'ENPXp1vQzRF6JwIuS-mp2U8Uf1MoADoP_GqQ62VsDZWY'}}\n",
      "\n",
      "keripy\t\t EPEeGpDroK50eKwPBfLuSgkvEKiEAzDN6mkskS9pjdYy\n",
      "simple-said\t EPEeGpDroK50eKwPBfLuSgkvEKiEAzDN6mkskS9pjdYy\n",
      "True\n",
      "EPEeGpDroK50eKwPBfLuSgkvEKiEAzDN6mkskS9pjdYy\n",
      "{ 'v': 'ACDC10JSON0008f0_',\n",
      "  'd': 'ECGJu8ZBoPkm2-fjJ_J24VtvW_wbeSiUo-MFp-lBMpEz',\n",
      "  'i': 'EKXPX7hWw8KK5Y_Mxs2TOuCrGdN45vPIZ78NofRlVBws',\n",
      "  'ri': 'EuqwB_iOD86eK0ynAhA6AYwWvPeBhvmbcmOD-9cCmiVU',\n",
      "  's': 'ELG17Q0M-uLZcjidzVbF7KBkoUhZa1ie3Az3Q_8aYi8s',\n",
      "  'a': 'EHsnk_lGaeL4F7sAuG9Hz9UN_diVMfLxXd_wzVIGCkX6',\n",
      "  'e': 'EPEeGpDroK50eKwPBfLuSgkvEKiEAzDN6mkskS9pjdYy',\n",
      "  'r': { 'd': 'EKHMDCNFlMBaMdDOq5Pf_vGMxkTqrDMrTx_28cZZJCcW',\n",
      "         'usageDisclaimer': { 'l': 'Usage of a valid, unexpired, and '\n",
      "                                   'non-revoked vLEI Credential, as defined in '\n",
      "                                   'the associated Ecosystem Governance '\n",
      "                                   'Framework, does not assert that the Legal '\n",
      "                                   'Entity is trustworthy, honest, reputable '\n",
      "                                   'in its business dealings, safe to do '\n",
      "                                   'business with, or compliant with any laws '\n",
      "                                   'or that an implied or expressly intended '\n",
      "                                   'purpose will be fulfilled.'},\n",
      "         'issuanceDisclaimer': { 'l': 'All information in a valid, unexpired, '\n",
      "                                      'and non-revoked vLEI Credential, as '\n",
      "                                      'defined in the associated Ecosystem '\n",
      "                                      'Governance Framework, is accurate as of '\n",
      "                                      'the date the validation process was '\n",
      "                                      'complete. The vLEI Credential has been '\n",
      "                                      'issued to the legal entity or person '\n",
      "                                      'named in the vLEI Credential as the '\n",
      "                                      'subject; and the qualified vLEI Issuer '\n",
      "                                      'exercised reasonable care to perform '\n",
      "                                      'the validation process set forth in the '\n",
      "                                      'vLEI Ecosystem Governance Framework.'},\n",
      "         'privacyDisclaimer': { 'l': 'Privacy Considerations are applicable to '\n",
      "                                     'QVI ECR AUTH vLEI Credentials.  It is '\n",
      "                                     'the sole responsibility of QVIs as '\n",
      "                                     'Issuees of QVI ECR AUTH vLEI Credentials '\n",
      "                                     'to present these Credentials in a '\n",
      "                                     'privacy-preserving manner using the '\n",
      "                                     'mechanisms provided in the Issuance and '\n",
      "                                     'Presentation Exchange (IPEX) protocol '\n",
      "                                     'specification and the Authentic Chained '\n",
      "                                     'Data Container (ACDC) specification.  '\n",
      "                                     'https://github.com/WebOfTrust/IETF-IPEX '\n",
      "                                     'and '\n",
      "                                     'https://github.com/trustoverip/tswg-acdc-specification.'}}}\n"
     ]
    }
   ],
   "source": [
    "# get nested dict with said field\n",
    "e = manual['e']\n",
    "print('e')\n",
    "pp.pprint(e)\n",
    "e_said  = u.get_blake3_256_said(e, 'd')\n",
    "k_e_said = coring.Saider.saidify(e)\n",
    "print()\n",
    "print('keripy\\t\\t', k_e_said[0].qb64)\n",
    "print('simple-said\\t', e_said)\n",
    "print(k_e_said[0].qb64 == e_said)\n",
    "print(e_said)\n",
    "## replace with caclulated said to compactify\n",
    "manual['e'] = e_said\n",
    "pp.pprint(manual)"
   ]
  },
  {
   "cell_type": "code",
   "execution_count": 15,
   "id": "7f5da1c8-8838-46e7-b8ab-572a4949928c",
   "metadata": {},
   "outputs": [
    {
     "name": "stdout",
     "output_type": "stream",
     "text": [
      "r\n",
      "{ 'd': 'EKHMDCNFlMBaMdDOq5Pf_vGMxkTqrDMrTx_28cZZJCcW',\n",
      "  'usageDisclaimer': { 'l': 'Usage of a valid, unexpired, and non-revoked vLEI '\n",
      "                            'Credential, as defined in the associated '\n",
      "                            'Ecosystem Governance Framework, does not assert '\n",
      "                            'that the Legal Entity is trustworthy, honest, '\n",
      "                            'reputable in its business dealings, safe to do '\n",
      "                            'business with, or compliant with any laws or that '\n",
      "                            'an implied or expressly intended purpose will be '\n",
      "                            'fulfilled.'},\n",
      "  'issuanceDisclaimer': { 'l': 'All information in a valid, unexpired, and '\n",
      "                               'non-revoked vLEI Credential, as defined in the '\n",
      "                               'associated Ecosystem Governance Framework, is '\n",
      "                               'accurate as of the date the validation process '\n",
      "                               'was complete. The vLEI Credential has been '\n",
      "                               'issued to the legal entity or person named in '\n",
      "                               'the vLEI Credential as the subject; and the '\n",
      "                               'qualified vLEI Issuer exercised reasonable '\n",
      "                               'care to perform the validation process set '\n",
      "                               'forth in the vLEI Ecosystem Governance '\n",
      "                               'Framework.'},\n",
      "  'privacyDisclaimer': { 'l': 'Privacy Considerations are applicable to QVI '\n",
      "                              'ECR AUTH vLEI Credentials.  It is the sole '\n",
      "                              'responsibility of QVIs as Issuees of QVI ECR '\n",
      "                              'AUTH vLEI Credentials to present these '\n",
      "                              'Credentials in a privacy-preserving manner '\n",
      "                              'using the mechanisms provided in the Issuance '\n",
      "                              'and Presentation Exchange (IPEX) protocol '\n",
      "                              'specification and the Authentic Chained Data '\n",
      "                              'Container (ACDC) specification.  '\n",
      "                              'https://github.com/WebOfTrust/IETF-IPEX and '\n",
      "                              'https://github.com/trustoverip/tswg-acdc-specification.'}}\n",
      "\n",
      "keripy\t\t EKHMDCNFlMBaMdDOq5Pf_vGMxkTqrDMrTx_28cZZJCcW\n",
      "simple-said\t EKHMDCNFlMBaMdDOq5Pf_vGMxkTqrDMrTx_28cZZJCcW\n",
      "True\n",
      "{ 'v': 'ACDC10JSON0008f0_',\n",
      "  'd': 'ECGJu8ZBoPkm2-fjJ_J24VtvW_wbeSiUo-MFp-lBMpEz',\n",
      "  'i': 'EKXPX7hWw8KK5Y_Mxs2TOuCrGdN45vPIZ78NofRlVBws',\n",
      "  'ri': 'EuqwB_iOD86eK0ynAhA6AYwWvPeBhvmbcmOD-9cCmiVU',\n",
      "  's': 'ELG17Q0M-uLZcjidzVbF7KBkoUhZa1ie3Az3Q_8aYi8s',\n",
      "  'a': 'EHsnk_lGaeL4F7sAuG9Hz9UN_diVMfLxXd_wzVIGCkX6',\n",
      "  'e': 'EPEeGpDroK50eKwPBfLuSgkvEKiEAzDN6mkskS9pjdYy',\n",
      "  'r': 'EKHMDCNFlMBaMdDOq5Pf_vGMxkTqrDMrTx_28cZZJCcW'}\n"
     ]
    }
   ],
   "source": [
    "# get nested dict with said field\n",
    "r = manual['r']\n",
    "print('r')\n",
    "pp.pprint(r)\n",
    "r_said  = u.get_blake3_256_said(r, 'd')\n",
    "k_r_said = coring.Saider.saidify(r)\n",
    "print()\n",
    "print('keripy\\t\\t', k_r_said[0].qb64)\n",
    "print('simple-said\\t', r_said)\n",
    "print(k_r_said[0].qb64 == r_said)\n",
    "\n",
    "## replace with caclulated said to compactify\n",
    "manual['r'] = r_said\n",
    "pp.pprint(manual)"
   ]
  },
  {
   "cell_type": "code",
   "execution_count": 16,
   "id": "cdfcc2ed-9e50-4dfa-9e62-9ec2247e81d9",
   "metadata": {},
   "outputs": [
    {
     "name": "stdout",
     "output_type": "stream",
     "text": [
      "{'v': 'ACDC10JSON0008f0_', 'd': 'ECGJu8ZBoPkm2-fjJ_J24VtvW_wbeSiUo-MFp-lBMpEz', 'i': 'EKXPX7hWw8KK5Y_Mxs2TOuCrGdN45vPIZ78NofRlVBws', 'ri': 'EuqwB_iOD86eK0ynAhA6AYwWvPeBhvmbcmOD-9cCmiVU', 's': 'ELG17Q0M-uLZcjidzVbF7KBkoUhZa1ie3Az3Q_8aYi8s', 'a': 'EHsnk_lGaeL4F7sAuG9Hz9UN_diVMfLxXd_wzVIGCkX6', 'e': 'EPEeGpDroK50eKwPBfLuSgkvEKiEAzDN6mkskS9pjdYy', 'r': 'EKHMDCNFlMBaMdDOq5Pf_vGMxkTqrDMrTx_28cZZJCcW'}\n",
      "EKHT7w0EEbEeq77-XrJ3SYBSgjTCgiDkK9FlbYKPbZMx\n",
      "\n",
      "keripy\t\t EFgc6dnweSbOcT9hONIsFdRAYqNbVG7LqvWfkFpyvQwa\n",
      "simple-said\t EKHT7w0EEbEeq77-XrJ3SYBSgjTCgiDkK9FlbYKPbZMx\n",
      "False\n",
      "THESE MISMATCH BECUASE THE COMPACT SAID VERSION STRING IS UPDATED BY \n",
      "     keripy before calculating said...\n",
      "\n",
      "keri updated dict\n",
      "{ 'v': 'ACDC10JSON00017f_',\n",
      "  'd': 'EFgc6dnweSbOcT9hONIsFdRAYqNbVG7LqvWfkFpyvQwa',\n",
      "  'i': 'EKXPX7hWw8KK5Y_Mxs2TOuCrGdN45vPIZ78NofRlVBws',\n",
      "  'ri': 'EuqwB_iOD86eK0ynAhA6AYwWvPeBhvmbcmOD-9cCmiVU',\n",
      "  's': 'ELG17Q0M-uLZcjidzVbF7KBkoUhZa1ie3Az3Q_8aYi8s',\n",
      "  'a': 'EHsnk_lGaeL4F7sAuG9Hz9UN_diVMfLxXd_wzVIGCkX6',\n",
      "  'e': 'EPEeGpDroK50eKwPBfLuSgkvEKiEAzDN6mkskS9pjdYy',\n",
      "  'r': 'EKHMDCNFlMBaMdDOq5Pf_vGMxkTqrDMrTx_28cZZJCcW'}\n",
      "actual compacted\n",
      "{ 'v': 'ACDC10JSON0008f0_',\n",
      "  'd': 'EKHT7w0EEbEeq77-XrJ3SYBSgjTCgiDkK9FlbYKPbZMx',\n",
      "  'i': 'EKXPX7hWw8KK5Y_Mxs2TOuCrGdN45vPIZ78NofRlVBws',\n",
      "  'ri': 'EuqwB_iOD86eK0ynAhA6AYwWvPeBhvmbcmOD-9cCmiVU',\n",
      "  's': 'ELG17Q0M-uLZcjidzVbF7KBkoUhZa1ie3Az3Q_8aYi8s',\n",
      "  'a': 'EHsnk_lGaeL4F7sAuG9Hz9UN_diVMfLxXd_wzVIGCkX6',\n",
      "  'e': 'EPEeGpDroK50eKwPBfLuSgkvEKiEAzDN6mkskS9pjdYy',\n",
      "  'r': 'EKHMDCNFlMBaMdDOq5Pf_vGMxkTqrDMrTx_28cZZJCcW'}\n",
      "manual_updated_v_string_said: EFgc6dnweSbOcT9hONIsFdRAYqNbVG7LqvWfkFpyvQwa\n",
      "updated v string MATCH CHECK:  True\n"
     ]
    }
   ],
   "source": [
    "## finally replace with compacted calculated said\n",
    "manual_said = u.get_blake3_256_said(manual, 'd')\n",
    "print(manual)\n",
    "print(manual_said)\n",
    "k_manual_compact_said = coring.Saider.saidify(manual)\n",
    "print()\n",
    "print('keripy\\t\\t', k_manual_compact_said[0].qb64)\n",
    "print('simple-said\\t', manual_said)\n",
    "\n",
    "\n",
    "print(k_manual_compact_said[0].qb64 == manual_said)\n",
    "print(\"\"\"THESE MISMATCH BECUASE THE COMPACT SAID VERSION STRING IS UPDATED BY \n",
    "     keripy before calculating said...\\n\"\"\")\n",
    "print('keri updated dict')\n",
    "pp.pprint(k_manual_compact_said[1])\n",
    "\n",
    "manual['d'] = manual_said\n",
    "print('actual compacted')\n",
    "pp.pprint(manual)\n",
    "manual_updated_v_string_said = u.get_blake3_256_said(k_manual_compact_said[1], 'd')\n",
    "print(\"manual_updated_v_string_said:\",  manual_updated_v_string_said)\n",
    "print('updated v string MATCH CHECK: ', manual_updated_v_string_said == k_manual_compact_said[0].qb64)\n",
    "\n",
    "      \n"
   ]
  }
 ],
 "metadata": {
  "kernelspec": {
   "display_name": "Python 3 (ipykernel)",
   "language": "python",
   "name": "python3"
  },
  "language_info": {
   "codemirror_mode": {
    "name": "ipython",
    "version": 3
   },
   "file_extension": ".py",
   "mimetype": "text/x-python",
   "name": "python",
   "nbconvert_exporter": "python",
   "pygments_lexer": "ipython3",
   "version": "3.12.7"
  }
 },
 "nbformat": 4,
 "nbformat_minor": 5
}
