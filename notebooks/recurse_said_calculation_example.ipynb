{
 "cells": [
  {
   "cell_type": "code",
   "execution_count": 1,
   "id": "a4e7e059-2c6e-4919-a832-02f748a81652",
   "metadata": {},
   "outputs": [],
   "source": [
    "# keri.core.coring.Saider._derive: ==> sad[label] = clas.Dummy * Matter.Sizes[code].fs\n",
    "\n",
    "# the above appears insufficient to calculate nested saids.\n",
    "# need something to recurse deep-first-search of saids and then apply: `sad[label] = clas.Dummy * Matter.Sizes[code].fs`\n",
    "## then need to call return (Diger._digest(ser=cpa, code=code), sad) on the path with the label ( the nested structure )\n",
    "## then finally calculate the said on the compact version.\n",
    "\n",
    "## Something like below will replace and track the paths to process the above in the correct order?\n",
    "\n",
    "\n",
    "def replace_label_with_said_and_track_paths(obj, label, debug=False):\n",
    "    \"\"\"\n",
    "    Recursively replaces the specified label's value with a computed SAID in a nested dictionary structure,\n",
    "    and tracks the paths to each label instance in depth-first order.\n",
    "\n",
    "    Parameters:\n",
    "        obj (dict): The input dictionary to process.\n",
    "        label (str): The field name whose value should be replaced by the computed SAID.\n",
    "        debug (bool): Flag for debugging output.\n",
    "\n",
    "    Returns:\n",
    "        dict: The updated dictionary with computed SAIDs replacing the label values.\n",
    "        list: A list of paths to each label instance, ordered by depth (deepest first).\n",
    "    \"\"\"\n",
    "    paths = []  # List to store paths to each label instance\n",
    "\n",
    "    def recursive_replace(data, path=\"\"):\n",
    "        if isinstance(data, dict):\n",
    "            updated_dict = {}\n",
    "            for key, value in data.items():\n",
    "                current_path = f\"{path}.{key}\" if path else key\n",
    "                if key == label:\n",
    "                    # Replace the label value with a computed SAID (placeholder here for demonstration)\n",
    "                    dummy_matter = len(value) * '#'  # Replace with actual `get_blake3_256_said` function\n",
    "                    updated_dict[key] = dummy_matter\n",
    "                    if debug:\n",
    "                        print(f\"dummy_matter SAID for {current_path}: {dummy_matter}\")\n",
    "\n",
    "                    # Add path to paths list\n",
    "                    paths.append(current_path)\n",
    "                else:\n",
    "                    # Recursively process nested dictionaries or lists\n",
    "                    updated_dict[key] = recursive_replace(value, current_path)\n",
    "            return updated_dict\n",
    "        elif isinstance(data, list):\n",
    "            return [recursive_replace(item, f\"{path}[{i}]\") for i, item in enumerate(data)]\n",
    "        else:\n",
    "            return data\n",
    "\n",
    "    # Start recursive replacement\n",
    "    updated_data = recursive_replace(obj)\n",
    "\n",
    "    # Sort paths by depth (deepest paths first)\n",
    "    paths.sort(key=lambda x: x.count('.'), reverse=True)\n",
    "\n",
    "    return updated_data, paths"
   ]
  },
  {
   "cell_type": "code",
   "execution_count": 2,
   "id": "2fcc54d1-2481-4df3-9389-f109906106ee",
   "metadata": {},
   "outputs": [],
   "source": [
    "# EXAMPLE ACDC with deep nested said fields:\n",
    "example1 = {'v': 'ACDC10JSON00084a_',\n",
    " 'd': 'EDb9n2N2rDONME256eFcFYSTTn5qkKsu7u0DIOvi0rA3',\n",
    " 'i': 'EKXPX7hWw8KK5Y_Mxs2TOuCrGdN45vPIZ78NofRlVBws',\n",
    " 'ri': 'EuqwB_iOD86eK0ynAhA6AYwWvPeBhvmbcmOD-9cCmiVU',\n",
    " 's': 'ELG17Q0M-uLZcjidzVbF7KBkoUhZa1ie3Az3Q_8aYi8s',\n",
    " 'a': {'d': 'E9-86Jag34CrJpfNFz_-7E5HA0Dj0FvcYNoFVe7qwkiI',\n",
    "  'dt': '2022-08-25T14:07:30.536257+00:00',\n",
    "  'i': 'EY4ldIBDZP4Tpnm3RX320BO0yz8Uz2nUSN-C409GnCJM',\n",
    "  'AID': 'Esf8b_AngI1d0KbOFjPGIfpVani0HTagWeaYTLs14PlE',\n",
    "  'LEI': '6383001AJTYIGC8Y1X37',\n",
    "  'personLegalName': 'John Smith',\n",
    "  'engagementContextRole': 'Chief Executive Officer',\n",
    "  'D': {'d': 'EsOf5_YgX_64z4YuHNFWLUnIKcyvsVQOe_vJ_638X6gE',\n",
    "   'le': {'n': 'ESyLzoJC4L_1abXOEN4f6uNZCmhqyEHg2geBHFhJ8KDs',\n",
    "    's': 'ENPXp1vQzRF6JwIuS-mp2U8Uf1MoADoP_GqQ62VsDZWY'}}},\n",
    " 'e': {'d': 'EsOf5_YgX_64z4YuHNFWLUnIKcyvsVQOe_vJ_638X6gE',\n",
    "  'le': {'n': 'ESyLzoJC4L_1abXOEN4f6uNZCmhqyEHg2geBHFhJ8KDs',\n",
    "   's': 'ENPXp1vQzRF6JwIuS-mp2U8Uf1MoADoP_GqQ62VsDZWY'}},\n",
    " 'r': {'d': 'EDIai3Wkd-Z_4cezz9nYEcCK3KNH5saLvZoS_84JL6NU',\n",
    "  'usageDisclaimer': {'l': 'Usage of a valid, unexpired, and non-revoked vLEI Credential, as defined in the associated Ecosystem Governance Framework, does not assert that the Legal Entity is trustworthy, honest, reputable in its business dealings, safe to do business with, or compliant with any laws or that an implied or expressly intended purpose will be fulfilled.'},\n",
    "  'issuanceDisclaimer': {'l': 'All information in a valid, unexpired, and non-revoked vLEI Credential, as defined in the associated Ecosystem Governance Framework, is accurate as of the date the validation process was complete. The vLEI Credential has been issued to the legal entity or person named in the vLEI Credential as the subject; and the qualified vLEI Issuer exercised reasonable care to perform the validation process set forth in the vLEI Ecosystem Governance Framework.'},\n",
    "  'privacyDisclaimer': {'l': 'Privacy Considerations are applicable to QVI ECR AUTH vLEI Credentials.  It is the sole responsibility of QVIs as Issuees of QVI ECR AUTH vLEI Credentials to present these Credentials in a privacy-preserving manner using the mechanisms provided in the Issuance and Presentation Exchange (IPEX) protocol specification and the Authentic Chained Data Container (ACDC) specification.  https://github.com/WebOfTrust/IETF-IPEX and https://github.com/trustoverip/tswg-acdc-specification.'}}}"
   ]
  },
  {
   "cell_type": "code",
   "execution_count": 3,
   "id": "9ce39225-285d-44e4-8ed5-15eace705c3f",
   "metadata": {},
   "outputs": [
    {
     "name": "stdout",
     "output_type": "stream",
     "text": [
      "dummy_matter SAID for d: ############################################\n",
      "dummy_matter SAID for a.d: ############################################\n",
      "dummy_matter SAID for a.D.d: ############################################\n",
      "dummy_matter SAID for e.d: ############################################\n",
      "dummy_matter SAID for r.d: ############################################\n"
     ]
    }
   ],
   "source": [
    "replaced, said_paths = replace_label_with_said_and_track_paths(example1, 'd', True)\n"
   ]
  },
  {
   "cell_type": "code",
   "execution_count": 4,
   "id": "292145cf-32e6-4ec3-9fb6-d0d61570d633",
   "metadata": {},
   "outputs": [
    {
     "data": {
      "text/plain": [
       "['a.D.d', 'a.d', 'e.d', 'r.d', 'd']"
      ]
     },
     "execution_count": 4,
     "metadata": {},
     "output_type": "execute_result"
    }
   ],
   "source": [
    "## this should show the order and paths that need the saids to be computed\n",
    "# - first path  a.D --> compute said of this struct and put in a.D.d\n",
    "# - etc.\n",
    "said_paths"
   ]
  },
  {
   "cell_type": "code",
   "execution_count": 5,
   "id": "4c82379b-804a-47eb-80fc-2d94e18bc1b4",
   "metadata": {},
   "outputs": [],
   "source": [
    "# something like this could be used to collapse the paths to compute the saids of lower layers:\n",
    "def collapse(obj, label):\n",
    "    \"\"\"\n",
    "    Recursively collapses nested dictionaries to a specified label if it exists.\n",
    "\n",
    "    Parameters:\n",
    "        obj (dict): The dictionary to collapse.\n",
    "        label (str): The field name to collapse on (e.g., 'id').\n",
    "\n",
    "    Returns:\n",
    "        dict: The collapsed dictionary.\n",
    "    \"\"\"\n",
    "    collapsed_obj = {}\n",
    "\n",
    "    for key, value in obj.items():\n",
    "        if isinstance(value, dict) and label in value:\n",
    "            # Collapse to the specified label's value if it exists in the nested dictionary\n",
    "            collapsed_obj[key] = value[label]\n",
    "        else:\n",
    "            # Otherwise, keep the value as-is\n",
    "            collapsed_obj[key] = value\n",
    "\n",
    "    return collapsed_obj"
   ]
  },
  {
   "cell_type": "code",
   "execution_count": 6,
   "id": "28bb8c11-4162-4519-93d4-c09dda547875",
   "metadata": {},
   "outputs": [
    {
     "name": "stdout",
     "output_type": "stream",
     "text": [
      "['a', 'D', 'd']\n",
      "{'d': '############################################', 'le': {'n': 'ESyLzoJC4L_1abXOEN4f6uNZCmhqyEHg2geBHFhJ8KDs', 's': 'ENPXp1vQzRF6JwIuS-mp2U8Uf1MoADoP_GqQ62VsDZWY'}}\n",
      "['a', 'd']\n",
      "{'d': '############################################', 'dt': '2022-08-25T14:07:30.536257+00:00', 'i': 'EY4ldIBDZP4Tpnm3RX320BO0yz8Uz2nUSN-C409GnCJM', 'AID': 'Esf8b_AngI1d0KbOFjPGIfpVani0HTagWeaYTLs14PlE', 'LEI': '6383001AJTYIGC8Y1X37', 'personLegalName': 'John Smith', 'engagementContextRole': 'Chief Executive Officer', 'D': '############################################'}\n",
      "['e', 'd']\n",
      "{'d': '############################################', 'le': {'n': 'ESyLzoJC4L_1abXOEN4f6uNZCmhqyEHg2geBHFhJ8KDs', 's': 'ENPXp1vQzRF6JwIuS-mp2U8Uf1MoADoP_GqQ62VsDZWY'}}\n",
      "['r', 'd']\n",
      "{'d': '############################################', 'usageDisclaimer': {'l': 'Usage of a valid, unexpired, and non-revoked vLEI Credential, as defined in the associated Ecosystem Governance Framework, does not assert that the Legal Entity is trustworthy, honest, reputable in its business dealings, safe to do business with, or compliant with any laws or that an implied or expressly intended purpose will be fulfilled.'}, 'issuanceDisclaimer': {'l': 'All information in a valid, unexpired, and non-revoked vLEI Credential, as defined in the associated Ecosystem Governance Framework, is accurate as of the date the validation process was complete. The vLEI Credential has been issued to the legal entity or person named in the vLEI Credential as the subject; and the qualified vLEI Issuer exercised reasonable care to perform the validation process set forth in the vLEI Ecosystem Governance Framework.'}, 'privacyDisclaimer': {'l': 'Privacy Considerations are applicable to QVI ECR AUTH vLEI Credentials.  It is the sole responsibility of QVIs as Issuees of QVI ECR AUTH vLEI Credentials to present these Credentials in a privacy-preserving manner using the mechanisms provided in the Issuance and Presentation Exchange (IPEX) protocol specification and the Authentic Chained Data Container (ACDC) specification.  https://github.com/WebOfTrust/IETF-IPEX and https://github.com/trustoverip/tswg-acdc-specification.'}}\n",
      "['d']\n",
      "{'v': 'ACDC10JSON00084a_', 'd': '############################################', 'i': 'EKXPX7hWw8KK5Y_Mxs2TOuCrGdN45vPIZ78NofRlVBws', 'ri': 'EuqwB_iOD86eK0ynAhA6AYwWvPeBhvmbcmOD-9cCmiVU', 's': 'ELG17Q0M-uLZcjidzVbF7KBkoUhZa1ie3Az3Q_8aYi8s', 'a': '############################################', 'e': '############################################', 'r': '############################################'}\n"
     ]
    }
   ],
   "source": [
    "def calc_collapsed_saids(upd, paths):\n",
    "    o = upd.copy()\n",
    "    for p in paths:\n",
    "        path = p.split('.')\n",
    "        obj = o.copy()\n",
    "        for ki in range(len(path)-1):\n",
    "            obj = obj[path[ki]]\n",
    "\n",
    "       \n",
    "        print(path)\n",
    "        collapsed = collapse(obj, path[-1])\n",
    "        # CALCULATE THE SAID ON THIS and put value in collapsed[path-1]  ==> obj\n",
    "        # Diger._digest(ser=cpa, code=code), sad)\n",
    "        print(collapsed)\n",
    "        \n",
    "\n",
    "calc_collapsed_saids(replaced, said_paths)"
   ]
  },
  {
   "cell_type": "code",
   "execution_count": 1,
   "id": "df27ab2c-0b10-42a8-ab14-f68bd6a057a9",
   "metadata": {},
   "outputs": [],
   "source": [
    "test ={\n",
    "    \"v\": \"ACDC10JSON00084a_\",\n",
    "    \"d\": \"EDb9n2N2rDONME256eFcFYSTTn5qkKsu7u0DIOvi0rA3\",\n",
    "    \"i\": \"EKXPX7hWw8KK5Y_Mxs2TOuCrGdN45vPIZ78NofRlVBws\",\n",
    "    \"ri\": \"EuqwB_iOD86eK0ynAhA6AYwWvPeBhvmbcmOD-9cCmiVU\",\n",
    "    \"s\": \"ELG17Q0M-uLZcjidzVbF7KBkoUhZa1ie3Az3Q_8aYi8s\",\n",
    "    \"a\": {\n",
    "        \"d\": \"E9-86Jag34CrJpfNFz_-7E5HA0Dj0FvcYNoFVe7qwkiI\",\n",
    "        \"dt\": \"2022-08-25T14:07:30.536257+00:00\",\n",
    "        \"i\": \"EY4ldIBDZP4Tpnm3RX320BO0yz8Uz2nUSN-C409GnCJM\",\n",
    "        \"AID\": \"Esf8b_AngI1d0KbOFjPGIfpVani0HTagWeaYTLs14PlE\",\n",
    "        \"LEI\": \"6383001AJTYIGC8Y1X37\",\n",
    "        \"personLegalName\": \"John Smith\",\n",
    "        \"engagementContextRole\": \"Chief Executive Officer\"\n",
    "    },\n",
    "    \"e\": {\n",
    "        \"d\": \"EsOf5_YgX_64z4YuHNFWLUnIKcyvsVQOe_vJ_638X6gE\",\n",
    "        \"le\": {\n",
    "            \"n\": \"ESyLzoJC4L_1abXOEN4f6uNZCmhqyEHg2geBHFhJ8KDs\",\n",
    "            \"s\": \"ENPXp1vQzRF6JwIuS-mp2U8Uf1MoADoP_GqQ62VsDZWY\"\n",
    "        }\n",
    "    },\n",
    "    \"r\": {\n",
    "        \"d\": \"EDIai3Wkd-Z_4cezz9nYEcCK3KNH5saLvZoS_84JL6NU\",\n",
    "        \"usageDisclaimer\": {\n",
    "            \"l\": \"Usage of a valid, unexpired, and non-revoked vLEI Credential, as defined in the associated Ecosystem Governance Framework, does not assert that the Legal Entity is trustworthy, honest, reputable in its business dealings, safe to do business with, or compliant with any laws or that an implied or expressly intended purpose will be fulfilled.\"\n",
    "        },\n",
    "        \"issuanceDisclaimer\": {\n",
    "            \"l\": \"All information in a valid, unexpired, and non-revoked vLEI Credential, as defined in the associated Ecosystem Governance Framework, is accurate as of the date the validation process was complete. The vLEI Credential has been issued to the legal entity or person named in the vLEI Credential as the subject; and the qualified vLEI Issuer exercised reasonable care to perform the validation process set forth in the vLEI Ecosystem Governance Framework.\"\n",
    "        },\n",
    "        \"privacyDisclaimer\": {\n",
    "            \"l\": \"Privacy Considerations are applicable to QVI ECR AUTH vLEI Credentials.  It is the sole responsibility of QVIs as Issuees of QVI ECR AUTH vLEI Credentials to present these Credentials in a privacy-preserving manner using the mechanisms provided in the Issuance and Presentation Exchange (IPEX) protocol specification and the Authentic Chained Data Container (ACDC) specification.  https://github.com/WebOfTrust/IETF-IPEX and https://github.com/trustoverip/tswg-acdc-specification.\"\n",
    "        }\n",
    "    }\n",
    "}"
   ]
  },
  {
   "cell_type": "code",
   "execution_count": 2,
   "id": "01bed08f-6828-4f1e-9d67-ded1e36c86b2",
   "metadata": {},
   "outputs": [
    {
     "data": {
      "text/plain": [
       "'/media/dhash/s_main/hub/keri_stuff/simple-said/notebooks'"
      ]
     },
     "execution_count": 2,
     "metadata": {},
     "output_type": "execute_result"
    }
   ],
   "source": [
    "pwd"
   ]
  },
  {
   "cell_type": "code",
   "execution_count": 9,
   "id": "6d4e17ff-668c-455e-958a-b5261e5fd329",
   "metadata": {},
   "outputs": [],
   "source": [
    "import os\n",
    "import sys\n",
    "import warnings\n",
    "warnings.filterwarnings(\"ignore\")\n",
    "\n",
    "base_path = os.getcwd()\n",
    "relative_path = os.path.abspath(os.path.join(base_path, '../src'))\n",
    "sys.path.append(relative_path)\n",
    "\n",
    "import utils as u"
   ]
  },
  {
   "cell_type": "code",
   "execution_count": null,
   "id": "f6efcd63-9814-473c-a14e-7bda1aa370fd",
   "metadata": {},
   "outputs": [],
   "source": [
    "u.get_"
   ]
  },
  {
   "cell_type": "code",
   "execution_count": null,
   "id": "a93e48c6-edce-4fdd-a769-5d70b701b420",
   "metadata": {},
   "outputs": [],
   "source": [
    "u.get_blake3_256_said("
   ]
  },
  {
   "cell_type": "code",
   "execution_count": 21,
   "id": "d9c653dd-52c4-4616-bba5-7832602ccde9",
   "metadata": {},
   "outputs": [],
   "source": [
    "import secrets\n",
    "import hashlib\n",
    "import base64\n",
    "\n",
    "def get_entropy(n=1024):\n",
    "    \"\"\"\n",
    "    Get n bytes of entropy from multiple sources.\n",
    "\n",
    "    :param n: The number of bytes to generate (default: 1024)\n",
    "    :return: A bytes object containing the generated entropy\n",
    "    \"\"\"\n",
    "    # Combine entropy from different sources:\n",
    "    #   - /dev/urandom on Unix-like systems\n",
    "    #   - os.urandom() on Windows and other platforms\n",
    "    #   - time.time_ns() to add some extra randomness\n",
    "\n",
    "    combined_entropy = bytearray(n)\n",
    "    if hasattr(os, 'getpid'):  # Unix-like systems\n",
    "        urandom_entropy = os.urandom(n // 2)  # /dev/urandom\n",
    "        for i in range(len(combined_entropy)):\n",
    "            combined_entropy[i] ^= urandom_entropy[i % (len(urandom_entropy))]\n",
    "    elif hasattr(os, 'random'):  # Windows and other platforms\n",
    "        random_entropy = os.urandom(n // 4)\n",
    "        time_entropy = int(time.time_ns()).to_bytes(8, byteorder='big')\n",
    "        for i in range(len(combined_entropy)):\n",
    "            combined_entropy[i] ^= random_entropy[i % (len(random_entropy))]\n",
    "            combined_entropy[i] ^= time_entropy[(i * 2) % len(time_entropy)]\n",
    "    else:\n",
    "        # Fall back to a simple PRNG\n",
    "        prng = os.urandom(n)\n",
    "        for i in range(len(combined_entropy)):\n",
    "            combined_entropy[i] = prng[i % len(prng)]\n",
    "\n",
    "    return bytes(combined_entropy)\n",
    "\n",
    "\n",
    "def entropy_256():\n",
    "    # Collect multiple sources of entropy\n",
    "    entropy_source1 = secrets.token_bytes(32)\n",
    "    entropy_source2 = os.urandom(32)\n",
    "    entropy_bytes = get_entropy()\n",
    "    combined_entropy = hashlib.sha256(entropy_source1 + entropy_source2+ entropy_bytes).digest()\n",
    "    return combined_entropy\n",
    "\n",
    "def bytes_to_base64url(bytes_data, strip_end = True):\n",
    "    if strip_end:\n",
    "        return base64.urlsafe_b64encode(bytes_data).rstrip(b'=').decode('utf-8')\n",
    "    return  base64.urlsafe_b64encode(bytes_data).decode('utf-8')\n"
   ]
  },
  {
   "cell_type": "code",
   "execution_count": 20,
   "id": "83d9cc96-4a54-4472-b950-1f973eb3a9b5",
   "metadata": {},
   "outputs": [
    {
     "data": {
      "text/plain": [
       "'Dh1YaizLQbgvXEzIyy439KTs8pvYZQg-Gf1G-cjhAtI'"
      ]
     },
     "execution_count": 20,
     "metadata": {},
     "output_type": "execute_result"
    }
   ],
   "source": []
  },
  {
   "cell_type": "code",
   "execution_count": 27,
   "id": "53b56689-a541-46fa-9788-7dc8e1afd06b",
   "metadata": {},
   "outputs": [
    {
     "name": "stdout",
     "output_type": "stream",
     "text": [
      "okkkhu0aEJPbbqMjVvff3PW0TPtIfYSmDT8TWh-dHfo\n",
      "ZpYgQTJ0RLx8qeWeh58jK9wGnFLHXpNXcuS1DysGauA\n",
      "CKEyE4Pgr6N2ZxcckR4YdbYn6DDgv94Hy7qYnUZw9Go\n",
      "pkfkGBQIdPpbp_62ILJOoZjcCtk51A_2dGK0Wg1B5VQ\n",
      "e44aE5SLdai9f7dw6-SSWiQnkyTpQ6WrDCphCbIsGv4\n",
      "yNel1GW39H6H1ejWdO2yX6ZaoBK-jE38bpIvdSK8F4g\n",
      "M5-cd-KlCZ4t5dNnzTNxDDgkWwYTwpM65dqzbbl89VM\n",
      "ePrrz6AedfMye8_CJ9q-6BCwZGpdBSOb4fEx0MFJQ74\n",
      "CbGofuUMNQP0zqq_e0iCshWAbEW_YuuIbW2Jwmb7M_0\n",
      "k3CbqdW9AAwKsA09gfWRDVqY2CmXxZ67XH28KD2c978\n"
     ]
    }
   ],
   "source": [
    "for i in range(10):\n",
    "    e = entropy_256()\n",
    "    print(bytes_to_base64url(e))"
   ]
  }
 ],
 "metadata": {
  "kernelspec": {
   "display_name": "Python 3 (ipykernel)",
   "language": "python",
   "name": "python3"
  },
  "language_info": {
   "codemirror_mode": {
    "name": "ipython",
    "version": 3
   },
   "file_extension": ".py",
   "mimetype": "text/x-python",
   "name": "python",
   "nbconvert_exporter": "python",
   "pygments_lexer": "ipython3",
   "version": "3.12.7"
  }
 },
 "nbformat": 4,
 "nbformat_minor": 5
}
