{
 "cells": [
  {
   "cell_type": "code",
   "execution_count": 1,
   "id": "bc2ec258-3597-4790-b835-b14665842d30",
   "metadata": {},
   "outputs": [],
   "source": [
    "import sys\n",
    "import os\n",
    "import warnings\n",
    "import pprint\n",
    "pp = pprint.PrettyPrinter(indent=2, sort_dicts=False)\n",
    "warnings.filterwarnings(\"ignore\")\n",
    "\n",
    "# Set base path to src directory\n",
    "base_path = os.path.abspath(os.path.join(os.getcwd(), '../src'))\n",
    "os.chdir(base_path)\n",
    "\n",
    "# Insert src directory to sys.path for module discovery\n",
    "sys.path.insert(0, base_path)\n",
    "import utils as u\n"
   ]
  },
  {
   "cell_type": "code",
   "execution_count": 2,
   "id": "f9c7fe01-e2f9-458b-a9c8-60da51e0484f",
   "metadata": {},
   "outputs": [],
   "source": [
    "# EXAMPLE ACDC with deep nested said fields:\n",
    "## currently has wrong values for v and wrong said labels\n",
    "_test = {'v': 'ACDC10JSON00084a_',\n",
    " 'd': 'EDb9n2N2rDONME256eFcFYSTTn5qkKsu7u0DIOvi0rA3',\n",
    " 'i': 'EKXPX7hWw8KK5Y_Mxs2TOuCrGdN45vPIZ78NofRlVBws',\n",
    " 'ri': 'EuqwB_iOD86eK0ynAhA6AYwWvPeBhvmbcmOD-9cCmiVU',\n",
    " 's': 'ELG17Q0M-uLZcjidzVbF7KBkoUhZa1ie3Az3Q_8aYi8s',\n",
    " 'a': {'d': 'E9-86Jag34CrJpfNFz_-7E5HA0Dj0FvcYNoFVe7qwkiI',\n",
    "  'dt': '2022-08-25T14:07:30.536257+00:00',\n",
    "  'i': 'EY4ldIBDZP4Tpnm3RX320BO0yz8Uz2nUSN-C409GnCJM',\n",
    "  'AID': 'Esf8b_AngI1d0KbOFjPGIfpVani0HTagWeaYTLs14PlE',\n",
    "  'LEI': '6383001AJTYIGC8Y1X37',\n",
    "  'personLegalName': 'John Smith',\n",
    "  'engagementContextRole': 'Chief Executive Officer',\n",
    "  'D': {'d': 'EsOf5_YgX_64z4YuHNFWLUnIKcyvsVQOe_vJ_638X6gE',\n",
    "   'le': {'n': 'ESyLzoJC4L_1abXOEN4f6uNZCmhqyEHg2geBHFhJ8KDs',\n",
    "    's': 'ENPXp1vQzRF6JwIuS-mp2U8Uf1MoADoP_GqQ62VsDZWY',\n",
    "     'random': 'something' }}},\n",
    " 'e': {'d': 'EsOf5_YgX_64z4YuHNFWLUnIKcyvsVQOe_vJ_638X6gE',\n",
    "  'le': {'n': 'ESyLzoJC4L_1abXOEN4f6uNZCmhqyEHg2geBHFhJ8KDs',\n",
    "   's': 'ENPXp1vQzRF6JwIuS-mp2U8Uf1MoADoP_GqQ62VsDZWY'}},\n",
    " 'r': {'d': 'EDIai3Wkd-Z_4cezz9nYEcCK3KNH5saLvZoS_84JL6NU',\n",
    "  'usageDisclaimer': {'l': 'Usage of a valid, unexpired, and non-revoked vLEI Credential, as defined in the associated Ecosystem Governance Framework, does not assert that the Legal Entity is trustworthy, honest, reputable in its business dealings, safe to do business with, or compliant with any laws or that an implied or expressly intended purpose will be fulfilled.'},\n",
    "  'issuanceDisclaimer': {'l': 'All information in a valid, unexpired, and non-revoked vLEI Credential, as defined in the associated Ecosystem Governance Framework, is accurate as of the date the validation process was complete. The vLEI Credential has been issued to the legal entity or person named in the vLEI Credential as the subject; and the qualified vLEI Issuer exercised reasonable care to perform the validation process set forth in the vLEI Ecosystem Governance Framework.'},\n",
    "  'privacyDisclaimer': {'l': 'Privacy Considerations are applicable to QVI ECR AUTH vLEI Credentials.  It is the sole responsibility of QVIs as Issuees of QVI ECR AUTH vLEI Credentials to present these Credentials in a privacy-preserving manner using the mechanisms provided in the Issuance and Presentation Exchange (IPEX) protocol specification and the Authentic Chained Data Container (ACDC) specification.  https://github.com/WebOfTrust/IETF-IPEX and https://github.com/trustoverip/tswg-acdc-specification.'}}}"
   ]
  },
  {
   "cell_type": "code",
   "execution_count": 3,
   "id": "86ffb29c-3482-4c01-9cb9-481e168dd9d1",
   "metadata": {},
   "outputs": [
    {
     "data": {
      "text/plain": [
       "'/media/dhash/s_main/hub/keri_stuff/simple-said/src'"
      ]
     },
     "execution_count": 3,
     "metadata": {},
     "output_type": "execute_result"
    }
   ],
   "source": [
    "os.getcwd()"
   ]
  },
  {
   "cell_type": "code",
   "execution_count": 4,
   "id": "82cae2be-1071-4246-aea6-5d76e3bf765d",
   "metadata": {},
   "outputs": [
    {
     "data": {
      "text/plain": [
       "'/media/dhash/s_main/hub/keri_stuff/my_forks/keripy'"
      ]
     },
     "execution_count": 4,
     "metadata": {},
     "output_type": "execute_result"
    }
   ],
   "source": [
    "base_path = os.path.abspath(os.path.join(os.getcwd(), '../../my_forks/keripy/'))\n",
    "sys.path.append(base_path)\n",
    "base_path"
   ]
  },
  {
   "cell_type": "code",
   "execution_count": 5,
   "id": "d9910ccf-4cfe-4d47-9c33-d6a1b8412b8e",
   "metadata": {},
   "outputs": [
    {
     "data": {
      "text/plain": [
       "'1.2.0-rc1'"
      ]
     },
     "execution_count": 5,
     "metadata": {},
     "output_type": "execute_result"
    }
   ],
   "source": [
    "from src.keri.core import coring\n",
    "from src import keri\n",
    "keri.__version__"
   ]
  },
  {
   "cell_type": "code",
   "execution_count": 6,
   "id": "a406a763-0f32-462c-bbdd-3e7ba75c0be1",
   "metadata": {},
   "outputs": [
    {
     "name": "stdout",
     "output_type": "stream",
     "text": [
      "EKQdEAB4A9e1yPs2rP2PN1J6rvWs_NkpoukdC1Y54WlE\n"
     ]
    },
    {
     "data": {
      "text/plain": [
       "{'v': 'ACDC10JSON000905_',\n",
       " 'd': 'EKQdEAB4A9e1yPs2rP2PN1J6rvWs_NkpoukdC1Y54WlE',\n",
       " 'i': 'EKXPX7hWw8KK5Y_Mxs2TOuCrGdN45vPIZ78NofRlVBws',\n",
       " 'ri': 'EuqwB_iOD86eK0ynAhA6AYwWvPeBhvmbcmOD-9cCmiVU',\n",
       " 's': 'ELG17Q0M-uLZcjidzVbF7KBkoUhZa1ie3Az3Q_8aYi8s',\n",
       " 'a': {'d': 'E9-86Jag34CrJpfNFz_-7E5HA0Dj0FvcYNoFVe7qwkiI',\n",
       "  'dt': '2022-08-25T14:07:30.536257+00:00',\n",
       "  'i': 'EY4ldIBDZP4Tpnm3RX320BO0yz8Uz2nUSN-C409GnCJM',\n",
       "  'AID': 'Esf8b_AngI1d0KbOFjPGIfpVani0HTagWeaYTLs14PlE',\n",
       "  'LEI': '6383001AJTYIGC8Y1X37',\n",
       "  'personLegalName': 'John Smith',\n",
       "  'engagementContextRole': 'Chief Executive Officer',\n",
       "  'D': {'d': 'EsOf5_YgX_64z4YuHNFWLUnIKcyvsVQOe_vJ_638X6gE',\n",
       "   'le': {'n': 'ESyLzoJC4L_1abXOEN4f6uNZCmhqyEHg2geBHFhJ8KDs',\n",
       "    's': 'ENPXp1vQzRF6JwIuS-mp2U8Uf1MoADoP_GqQ62VsDZWY',\n",
       "    'random': 'something'}}},\n",
       " 'e': {'d': 'EsOf5_YgX_64z4YuHNFWLUnIKcyvsVQOe_vJ_638X6gE',\n",
       "  'le': {'n': 'ESyLzoJC4L_1abXOEN4f6uNZCmhqyEHg2geBHFhJ8KDs',\n",
       "   's': 'ENPXp1vQzRF6JwIuS-mp2U8Uf1MoADoP_GqQ62VsDZWY'}},\n",
       " 'r': {'d': 'EDIai3Wkd-Z_4cezz9nYEcCK3KNH5saLvZoS_84JL6NU',\n",
       "  'usageDisclaimer': {'l': 'Usage of a valid, unexpired, and non-revoked vLEI Credential, as defined in the associated Ecosystem Governance Framework, does not assert that the Legal Entity is trustworthy, honest, reputable in its business dealings, safe to do business with, or compliant with any laws or that an implied or expressly intended purpose will be fulfilled.'},\n",
       "  'issuanceDisclaimer': {'l': 'All information in a valid, unexpired, and non-revoked vLEI Credential, as defined in the associated Ecosystem Governance Framework, is accurate as of the date the validation process was complete. The vLEI Credential has been issued to the legal entity or person named in the vLEI Credential as the subject; and the qualified vLEI Issuer exercised reasonable care to perform the validation process set forth in the vLEI Ecosystem Governance Framework.'},\n",
       "  'privacyDisclaimer': {'l': 'Privacy Considerations are applicable to QVI ECR AUTH vLEI Credentials.  It is the sole responsibility of QVIs as Issuees of QVI ECR AUTH vLEI Credentials to present these Credentials in a privacy-preserving manner using the mechanisms provided in the Issuance and Presentation Exchange (IPEX) protocol specification and the Authentic Chained Data Container (ACDC) specification.  https://github.com/WebOfTrust/IETF-IPEX and https://github.com/trustoverip/tswg-acdc-specification.'}}}"
      ]
     },
     "execution_count": 6,
     "metadata": {},
     "output_type": "execute_result"
    }
   ],
   "source": [
    "# calc said with actual lenght\n",
    "_said = coring.Saider.saidify(_test)\n",
    "print(_said[0].qb64)\n",
    "test1 = _said[1]\n",
    "test1\n"
   ]
  },
  {
   "cell_type": "code",
   "execution_count": 7,
   "id": "862916f6-400d-4e4b-8b2f-f3ddd13c6e2c",
   "metadata": {},
   "outputs": [
    {
     "data": {
      "text/plain": [
       "2309"
      ]
     },
     "execution_count": 7,
     "metadata": {},
     "output_type": "execute_result"
    }
   ],
   "source": [
    "t2 = u.dict_to_keri_byte_str(_test)\n",
    "len(t2)"
   ]
  },
  {
   "cell_type": "code",
   "execution_count": 8,
   "id": "bc4369f3-996f-43ba-bc1d-dae25a1691ff",
   "metadata": {},
   "outputs": [
    {
     "data": {
      "text/plain": [
       "{'paths': [['a', 'D', 'd'], ['a', 'd'], ['e', 'd'], ['r', 'd'], ['d']],\n",
       " 'sads': {'a.D': {'d': 'EHpMHBSiFG475VJYutgT9WhccSjbtJo7sGfpk86tvN__',\n",
       "   'le': {'n': 'ESyLzoJC4L_1abXOEN4f6uNZCmhqyEHg2geBHFhJ8KDs',\n",
       "    's': 'ENPXp1vQzRF6JwIuS-mp2U8Uf1MoADoP_GqQ62VsDZWY',\n",
       "    'random': 'something'}},\n",
       "  'a': {'d': 'EFY3EkE7moK-hHQNkfoGx48QwFRV4bHlviTbOgbvRftP',\n",
       "   'dt': '2022-08-25T14:07:30.536257+00:00',\n",
       "   'i': 'EY4ldIBDZP4Tpnm3RX320BO0yz8Uz2nUSN-C409GnCJM',\n",
       "   'AID': 'Esf8b_AngI1d0KbOFjPGIfpVani0HTagWeaYTLs14PlE',\n",
       "   'LEI': '6383001AJTYIGC8Y1X37',\n",
       "   'personLegalName': 'John Smith',\n",
       "   'engagementContextRole': 'Chief Executive Officer',\n",
       "   'D': 'EHpMHBSiFG475VJYutgT9WhccSjbtJo7sGfpk86tvN__'},\n",
       "  'e': {'d': 'EPEeGpDroK50eKwPBfLuSgkvEKiEAzDN6mkskS9pjdYy',\n",
       "   'le': {'n': 'ESyLzoJC4L_1abXOEN4f6uNZCmhqyEHg2geBHFhJ8KDs',\n",
       "    's': 'ENPXp1vQzRF6JwIuS-mp2U8Uf1MoADoP_GqQ62VsDZWY'}},\n",
       "  'r': {'d': 'EKHMDCNFlMBaMdDOq5Pf_vGMxkTqrDMrTx_28cZZJCcW',\n",
       "   'usageDisclaimer': {'l': 'Usage of a valid, unexpired, and non-revoked vLEI Credential, as defined in the associated Ecosystem Governance Framework, does not assert that the Legal Entity is trustworthy, honest, reputable in its business dealings, safe to do business with, or compliant with any laws or that an implied or expressly intended purpose will be fulfilled.'},\n",
       "   'issuanceDisclaimer': {'l': 'All information in a valid, unexpired, and non-revoked vLEI Credential, as defined in the associated Ecosystem Governance Framework, is accurate as of the date the validation process was complete. The vLEI Credential has been issued to the legal entity or person named in the vLEI Credential as the subject; and the qualified vLEI Issuer exercised reasonable care to perform the validation process set forth in the vLEI Ecosystem Governance Framework.'},\n",
       "   'privacyDisclaimer': {'l': 'Privacy Considerations are applicable to QVI ECR AUTH vLEI Credentials.  It is the sole responsibility of QVIs as Issuees of QVI ECR AUTH vLEI Credentials to present these Credentials in a privacy-preserving manner using the mechanisms provided in the Issuance and Presentation Exchange (IPEX) protocol specification and the Authentic Chained Data Container (ACDC) specification.  https://github.com/WebOfTrust/IETF-IPEX and https://github.com/trustoverip/tswg-acdc-specification.'}},\n",
       "  '': {'v': 'ACDC10JSON00017f_',\n",
       "   'd': 'EORCFVaMjeyIa65NDy6ukd9OFjh7MdlJIxr5xNioX_cJ',\n",
       "   'i': 'EKXPX7hWw8KK5Y_Mxs2TOuCrGdN45vPIZ78NofRlVBws',\n",
       "   'ri': 'EuqwB_iOD86eK0ynAhA6AYwWvPeBhvmbcmOD-9cCmiVU',\n",
       "   's': 'ELG17Q0M-uLZcjidzVbF7KBkoUhZa1ie3Az3Q_8aYi8s',\n",
       "   'a': 'EFY3EkE7moK-hHQNkfoGx48QwFRV4bHlviTbOgbvRftP',\n",
       "   'e': 'EPEeGpDroK50eKwPBfLuSgkvEKiEAzDN6mkskS9pjdYy',\n",
       "   'r': 'EKHMDCNFlMBaMdDOq5Pf_vGMxkTqrDMrTx_28cZZJCcW'}},\n",
       " 'saiders': {'a.D.d': <src.keri.core.coring.Saider at 0x7003c003a1b0>,\n",
       "  'a.d': <src.keri.core.coring.Saider at 0x7003c003a240>,\n",
       "  'e.d': <src.keri.core.coring.Saider at 0x7003c003a270>,\n",
       "  'r.d': <src.keri.core.coring.Saider at 0x7003c003a330>,\n",
       "  'd': <src.keri.core.coring.Saider at 0x7003c003a480>},\n",
       " 'compact': {'v': 'ACDC10JSON00017f_',\n",
       "  'd': 'EORCFVaMjeyIa65NDy6ukd9OFjh7MdlJIxr5xNioX_cJ',\n",
       "  'i': 'EKXPX7hWw8KK5Y_Mxs2TOuCrGdN45vPIZ78NofRlVBws',\n",
       "  'ri': 'EuqwB_iOD86eK0ynAhA6AYwWvPeBhvmbcmOD-9cCmiVU',\n",
       "  's': 'ELG17Q0M-uLZcjidzVbF7KBkoUhZa1ie3Az3Q_8aYi8s',\n",
       "  'a': 'EFY3EkE7moK-hHQNkfoGx48QwFRV4bHlviTbOgbvRftP',\n",
       "  'e': 'EPEeGpDroK50eKwPBfLuSgkvEKiEAzDN6mkskS9pjdYy',\n",
       "  'r': 'EKHMDCNFlMBaMdDOq5Pf_vGMxkTqrDMrTx_28cZZJCcW'},\n",
       " 'non_compact': {'v': 'ACDC10JSON000905_',\n",
       "  'd': 'EORCFVaMjeyIa65NDy6ukd9OFjh7MdlJIxr5xNioX_cJ',\n",
       "  'i': 'EKXPX7hWw8KK5Y_Mxs2TOuCrGdN45vPIZ78NofRlVBws',\n",
       "  'ri': 'EuqwB_iOD86eK0ynAhA6AYwWvPeBhvmbcmOD-9cCmiVU',\n",
       "  's': 'ELG17Q0M-uLZcjidzVbF7KBkoUhZa1ie3Az3Q_8aYi8s',\n",
       "  'a': {'d': 'E9-86Jag34CrJpfNFz_-7E5HA0Dj0FvcYNoFVe7qwkiI',\n",
       "   'dt': '2022-08-25T14:07:30.536257+00:00',\n",
       "   'i': 'EY4ldIBDZP4Tpnm3RX320BO0yz8Uz2nUSN-C409GnCJM',\n",
       "   'AID': 'Esf8b_AngI1d0KbOFjPGIfpVani0HTagWeaYTLs14PlE',\n",
       "   'LEI': '6383001AJTYIGC8Y1X37',\n",
       "   'personLegalName': 'John Smith',\n",
       "   'engagementContextRole': 'Chief Executive Officer',\n",
       "   'D': {'d': 'EsOf5_YgX_64z4YuHNFWLUnIKcyvsVQOe_vJ_638X6gE',\n",
       "    'le': {'n': 'ESyLzoJC4L_1abXOEN4f6uNZCmhqyEHg2geBHFhJ8KDs',\n",
       "     's': 'ENPXp1vQzRF6JwIuS-mp2U8Uf1MoADoP_GqQ62VsDZWY',\n",
       "     'random': 'something'}}},\n",
       "  'e': {'d': 'EsOf5_YgX_64z4YuHNFWLUnIKcyvsVQOe_vJ_638X6gE',\n",
       "   'le': {'n': 'ESyLzoJC4L_1abXOEN4f6uNZCmhqyEHg2geBHFhJ8KDs',\n",
       "    's': 'ENPXp1vQzRF6JwIuS-mp2U8Uf1MoADoP_GqQ62VsDZWY'}},\n",
       "  'r': {'d': 'EDIai3Wkd-Z_4cezz9nYEcCK3KNH5saLvZoS_84JL6NU',\n",
       "   'usageDisclaimer': {'l': 'Usage of a valid, unexpired, and non-revoked vLEI Credential, as defined in the associated Ecosystem Governance Framework, does not assert that the Legal Entity is trustworthy, honest, reputable in its business dealings, safe to do business with, or compliant with any laws or that an implied or expressly intended purpose will be fulfilled.'},\n",
       "   'issuanceDisclaimer': {'l': 'All information in a valid, unexpired, and non-revoked vLEI Credential, as defined in the associated Ecosystem Governance Framework, is accurate as of the date the validation process was complete. The vLEI Credential has been issued to the legal entity or person named in the vLEI Credential as the subject; and the qualified vLEI Issuer exercised reasonable care to perform the validation process set forth in the vLEI Ecosystem Governance Framework.'},\n",
       "   'privacyDisclaimer': {'l': 'Privacy Considerations are applicable to QVI ECR AUTH vLEI Credentials.  It is the sole responsibility of QVIs as Issuees of QVI ECR AUTH vLEI Credentials to present these Credentials in a privacy-preserving manner using the mechanisms provided in the Issuance and Presentation Exchange (IPEX) protocol specification and the Authentic Chained Data Container (ACDC) specification.  https://github.com/WebOfTrust/IETF-IPEX and https://github.com/trustoverip/tswg-acdc-specification.'}}}}"
      ]
     },
     "execution_count": 8,
     "metadata": {},
     "output_type": "execute_result"
    }
   ],
   "source": [
    "test2 = coring.Saider._saidify(_test)\n",
    "test2"
   ]
  },
  {
   "cell_type": "code",
   "execution_count": 9,
   "id": "3388ae67-3a3b-4a9c-adda-92b4b269ec91",
   "metadata": {},
   "outputs": [
    {
     "data": {
      "text/plain": [
       "{'v': 'ACDC10JSON000905_',\n",
       " 'd': 'EORCFVaMjeyIa65NDy6ukd9OFjh7MdlJIxr5xNioX_cJ',\n",
       " 'i': 'EKXPX7hWw8KK5Y_Mxs2TOuCrGdN45vPIZ78NofRlVBws',\n",
       " 'ri': 'EuqwB_iOD86eK0ynAhA6AYwWvPeBhvmbcmOD-9cCmiVU',\n",
       " 's': 'ELG17Q0M-uLZcjidzVbF7KBkoUhZa1ie3Az3Q_8aYi8s',\n",
       " 'a': {'d': 'E9-86Jag34CrJpfNFz_-7E5HA0Dj0FvcYNoFVe7qwkiI',\n",
       "  'dt': '2022-08-25T14:07:30.536257+00:00',\n",
       "  'i': 'EY4ldIBDZP4Tpnm3RX320BO0yz8Uz2nUSN-C409GnCJM',\n",
       "  'AID': 'Esf8b_AngI1d0KbOFjPGIfpVani0HTagWeaYTLs14PlE',\n",
       "  'LEI': '6383001AJTYIGC8Y1X37',\n",
       "  'personLegalName': 'John Smith',\n",
       "  'engagementContextRole': 'Chief Executive Officer',\n",
       "  'D': {'d': 'EsOf5_YgX_64z4YuHNFWLUnIKcyvsVQOe_vJ_638X6gE',\n",
       "   'le': {'n': 'ESyLzoJC4L_1abXOEN4f6uNZCmhqyEHg2geBHFhJ8KDs',\n",
       "    's': 'ENPXp1vQzRF6JwIuS-mp2U8Uf1MoADoP_GqQ62VsDZWY',\n",
       "    'random': 'something'}}},\n",
       " 'e': {'d': 'EsOf5_YgX_64z4YuHNFWLUnIKcyvsVQOe_vJ_638X6gE',\n",
       "  'le': {'n': 'ESyLzoJC4L_1abXOEN4f6uNZCmhqyEHg2geBHFhJ8KDs',\n",
       "   's': 'ENPXp1vQzRF6JwIuS-mp2U8Uf1MoADoP_GqQ62VsDZWY'}},\n",
       " 'r': {'d': 'EDIai3Wkd-Z_4cezz9nYEcCK3KNH5saLvZoS_84JL6NU',\n",
       "  'usageDisclaimer': {'l': 'Usage of a valid, unexpired, and non-revoked vLEI Credential, as defined in the associated Ecosystem Governance Framework, does not assert that the Legal Entity is trustworthy, honest, reputable in its business dealings, safe to do business with, or compliant with any laws or that an implied or expressly intended purpose will be fulfilled.'},\n",
       "  'issuanceDisclaimer': {'l': 'All information in a valid, unexpired, and non-revoked vLEI Credential, as defined in the associated Ecosystem Governance Framework, is accurate as of the date the validation process was complete. The vLEI Credential has been issued to the legal entity or person named in the vLEI Credential as the subject; and the qualified vLEI Issuer exercised reasonable care to perform the validation process set forth in the vLEI Ecosystem Governance Framework.'},\n",
       "  'privacyDisclaimer': {'l': 'Privacy Considerations are applicable to QVI ECR AUTH vLEI Credentials.  It is the sole responsibility of QVIs as Issuees of QVI ECR AUTH vLEI Credentials to present these Credentials in a privacy-preserving manner using the mechanisms provided in the Issuance and Presentation Exchange (IPEX) protocol specification and the Authentic Chained Data Container (ACDC) specification.  https://github.com/WebOfTrust/IETF-IPEX and https://github.com/trustoverip/tswg-acdc-specification.'}}}"
      ]
     },
     "execution_count": 9,
     "metadata": {},
     "output_type": "execute_result"
    }
   ],
   "source": [
    "test2['non_compact']"
   ]
  },
  {
   "cell_type": "code",
   "execution_count": 10,
   "id": "9ec84f21-34a5-4ea0-a49a-fcfc5c7858f1",
   "metadata": {},
   "outputs": [
    {
     "data": {
      "text/plain": [
       "{'v': 'ACDC10JSON00017f_',\n",
       " 'd': 'EORCFVaMjeyIa65NDy6ukd9OFjh7MdlJIxr5xNioX_cJ',\n",
       " 'i': 'EKXPX7hWw8KK5Y_Mxs2TOuCrGdN45vPIZ78NofRlVBws',\n",
       " 'ri': 'EuqwB_iOD86eK0ynAhA6AYwWvPeBhvmbcmOD-9cCmiVU',\n",
       " 's': 'ELG17Q0M-uLZcjidzVbF7KBkoUhZa1ie3Az3Q_8aYi8s',\n",
       " 'a': 'EFY3EkE7moK-hHQNkfoGx48QwFRV4bHlviTbOgbvRftP',\n",
       " 'e': 'EPEeGpDroK50eKwPBfLuSgkvEKiEAzDN6mkskS9pjdYy',\n",
       " 'r': 'EKHMDCNFlMBaMdDOq5Pf_vGMxkTqrDMrTx_28cZZJCcW'}"
      ]
     },
     "execution_count": 10,
     "metadata": {},
     "output_type": "execute_result"
    }
   ],
   "source": [
    "test2['compact']"
   ]
  },
  {
   "cell_type": "code",
   "execution_count": 11,
   "id": "325633ed-515f-4e61-b271-39f894eea04a",
   "metadata": {},
   "outputs": [
    {
     "data": {
      "text/plain": [
       "('EKQdEAB4A9e1yPs2rP2PN1J6rvWs_NkpoukdC1Y54WlE', '1')"
      ]
     },
     "execution_count": 11,
     "metadata": {},
     "output_type": "execute_result"
    }
   ],
   "source": [
    "## simple-saidify utils.saidify:  \n",
    "#  version 1 explicit \n",
    "# only returns the version 1 basic said calculation and detecter major version\n",
    "test3 = u.saidify(test1, label='d', version=1)\n",
    "test3"
   ]
  },
  {
   "cell_type": "code",
   "execution_count": 12,
   "id": "f7ad6836-c4e6-4324-9888-cb86f73d9378",
   "metadata": {},
   "outputs": [
    {
     "data": {
      "text/plain": [
       "{'final_said': 'EORCFVaMjeyIa65NDy6ukd9OFjh7MdlJIxr5xNioX_cJ',\n",
       " 'version_1_said_calc': 'EKQdEAB4A9e1yPs2rP2PN1J6rvWs_NkpoukdC1Y54WlE',\n",
       " 'paths': [['a', 'D', 'd'], ['a', 'd'], ['e', 'd'], ['r', 'd'], ['d']],\n",
       " 'sads': {'a.D': {'d': 'EHpMHBSiFG475VJYutgT9WhccSjbtJo7sGfpk86tvN__',\n",
       "   'le': {'n': 'ESyLzoJC4L_1abXOEN4f6uNZCmhqyEHg2geBHFhJ8KDs',\n",
       "    's': 'ENPXp1vQzRF6JwIuS-mp2U8Uf1MoADoP_GqQ62VsDZWY',\n",
       "    'random': 'something'}},\n",
       "  'a': {'d': 'EFY3EkE7moK-hHQNkfoGx48QwFRV4bHlviTbOgbvRftP',\n",
       "   'dt': '2022-08-25T14:07:30.536257+00:00',\n",
       "   'i': 'EY4ldIBDZP4Tpnm3RX320BO0yz8Uz2nUSN-C409GnCJM',\n",
       "   'AID': 'Esf8b_AngI1d0KbOFjPGIfpVani0HTagWeaYTLs14PlE',\n",
       "   'LEI': '6383001AJTYIGC8Y1X37',\n",
       "   'personLegalName': 'John Smith',\n",
       "   'engagementContextRole': 'Chief Executive Officer',\n",
       "   'D': 'EHpMHBSiFG475VJYutgT9WhccSjbtJo7sGfpk86tvN__'},\n",
       "  'e': {'d': 'EPEeGpDroK50eKwPBfLuSgkvEKiEAzDN6mkskS9pjdYy',\n",
       "   'le': {'n': 'ESyLzoJC4L_1abXOEN4f6uNZCmhqyEHg2geBHFhJ8KDs',\n",
       "    's': 'ENPXp1vQzRF6JwIuS-mp2U8Uf1MoADoP_GqQ62VsDZWY'}},\n",
       "  'r': {'d': 'EKHMDCNFlMBaMdDOq5Pf_vGMxkTqrDMrTx_28cZZJCcW',\n",
       "   'usageDisclaimer': {'l': 'Usage of a valid, unexpired, and non-revoked vLEI Credential, as defined in the associated Ecosystem Governance Framework, does not assert that the Legal Entity is trustworthy, honest, reputable in its business dealings, safe to do business with, or compliant with any laws or that an implied or expressly intended purpose will be fulfilled.'},\n",
       "   'issuanceDisclaimer': {'l': 'All information in a valid, unexpired, and non-revoked vLEI Credential, as defined in the associated Ecosystem Governance Framework, is accurate as of the date the validation process was complete. The vLEI Credential has been issued to the legal entity or person named in the vLEI Credential as the subject; and the qualified vLEI Issuer exercised reasonable care to perform the validation process set forth in the vLEI Ecosystem Governance Framework.'},\n",
       "   'privacyDisclaimer': {'l': 'Privacy Considerations are applicable to QVI ECR AUTH vLEI Credentials.  It is the sole responsibility of QVIs as Issuees of QVI ECR AUTH vLEI Credentials to present these Credentials in a privacy-preserving manner using the mechanisms provided in the Issuance and Presentation Exchange (IPEX) protocol specification and the Authentic Chained Data Container (ACDC) specification.  https://github.com/WebOfTrust/IETF-IPEX and https://github.com/trustoverip/tswg-acdc-specification.'}},\n",
       "  '': {'v': 'ACDC10JSON00017f_',\n",
       "   'd': 'EORCFVaMjeyIa65NDy6ukd9OFjh7MdlJIxr5xNioX_cJ',\n",
       "   'i': 'EKXPX7hWw8KK5Y_Mxs2TOuCrGdN45vPIZ78NofRlVBws',\n",
       "   'ri': 'EuqwB_iOD86eK0ynAhA6AYwWvPeBhvmbcmOD-9cCmiVU',\n",
       "   's': 'ELG17Q0M-uLZcjidzVbF7KBkoUhZa1ie3Az3Q_8aYi8s',\n",
       "   'a': 'EFY3EkE7moK-hHQNkfoGx48QwFRV4bHlviTbOgbvRftP',\n",
       "   'e': 'EPEeGpDroK50eKwPBfLuSgkvEKiEAzDN6mkskS9pjdYy',\n",
       "   'r': 'EKHMDCNFlMBaMdDOq5Pf_vGMxkTqrDMrTx_28cZZJCcW'}},\n",
       " 'saiders': {'a.D.d': 'EHpMHBSiFG475VJYutgT9WhccSjbtJo7sGfpk86tvN__',\n",
       "  'a.d': 'EFY3EkE7moK-hHQNkfoGx48QwFRV4bHlviTbOgbvRftP',\n",
       "  'e.d': 'EPEeGpDroK50eKwPBfLuSgkvEKiEAzDN6mkskS9pjdYy',\n",
       "  'r.d': 'EKHMDCNFlMBaMdDOq5Pf_vGMxkTqrDMrTx_28cZZJCcW',\n",
       "  'd': 'EORCFVaMjeyIa65NDy6ukd9OFjh7MdlJIxr5xNioX_cJ'},\n",
       " 'compact': {'v': 'ACDC10JSON00017f_',\n",
       "  'd': 'EORCFVaMjeyIa65NDy6ukd9OFjh7MdlJIxr5xNioX_cJ',\n",
       "  'i': 'EKXPX7hWw8KK5Y_Mxs2TOuCrGdN45vPIZ78NofRlVBws',\n",
       "  'ri': 'EuqwB_iOD86eK0ynAhA6AYwWvPeBhvmbcmOD-9cCmiVU',\n",
       "  's': 'ELG17Q0M-uLZcjidzVbF7KBkoUhZa1ie3Az3Q_8aYi8s',\n",
       "  'a': 'EFY3EkE7moK-hHQNkfoGx48QwFRV4bHlviTbOgbvRftP',\n",
       "  'e': 'EPEeGpDroK50eKwPBfLuSgkvEKiEAzDN6mkskS9pjdYy',\n",
       "  'r': 'EKHMDCNFlMBaMdDOq5Pf_vGMxkTqrDMrTx_28cZZJCcW'},\n",
       " 'non_compact': {'v': 'ACDC10JSON000905_',\n",
       "  'd': 'EORCFVaMjeyIa65NDy6ukd9OFjh7MdlJIxr5xNioX_cJ',\n",
       "  'i': 'EKXPX7hWw8KK5Y_Mxs2TOuCrGdN45vPIZ78NofRlVBws',\n",
       "  'ri': 'EuqwB_iOD86eK0ynAhA6AYwWvPeBhvmbcmOD-9cCmiVU',\n",
       "  's': 'ELG17Q0M-uLZcjidzVbF7KBkoUhZa1ie3Az3Q_8aYi8s',\n",
       "  'a': {'d': 'EFY3EkE7moK-hHQNkfoGx48QwFRV4bHlviTbOgbvRftP',\n",
       "   'dt': '2022-08-25T14:07:30.536257+00:00',\n",
       "   'i': 'EY4ldIBDZP4Tpnm3RX320BO0yz8Uz2nUSN-C409GnCJM',\n",
       "   'AID': 'Esf8b_AngI1d0KbOFjPGIfpVani0HTagWeaYTLs14PlE',\n",
       "   'LEI': '6383001AJTYIGC8Y1X37',\n",
       "   'personLegalName': 'John Smith',\n",
       "   'engagementContextRole': 'Chief Executive Officer',\n",
       "   'D': {'d': 'EHpMHBSiFG475VJYutgT9WhccSjbtJo7sGfpk86tvN__',\n",
       "    'le': {'n': 'ESyLzoJC4L_1abXOEN4f6uNZCmhqyEHg2geBHFhJ8KDs',\n",
       "     's': 'ENPXp1vQzRF6JwIuS-mp2U8Uf1MoADoP_GqQ62VsDZWY',\n",
       "     'random': 'something'}}},\n",
       "  'e': {'d': 'EPEeGpDroK50eKwPBfLuSgkvEKiEAzDN6mkskS9pjdYy',\n",
       "   'le': {'n': 'ESyLzoJC4L_1abXOEN4f6uNZCmhqyEHg2geBHFhJ8KDs',\n",
       "    's': 'ENPXp1vQzRF6JwIuS-mp2U8Uf1MoADoP_GqQ62VsDZWY'}},\n",
       "  'r': {'d': 'EKHMDCNFlMBaMdDOq5Pf_vGMxkTqrDMrTx_28cZZJCcW',\n",
       "   'usageDisclaimer': {'l': 'Usage of a valid, unexpired, and non-revoked vLEI Credential, as defined in the associated Ecosystem Governance Framework, does not assert that the Legal Entity is trustworthy, honest, reputable in its business dealings, safe to do business with, or compliant with any laws or that an implied or expressly intended purpose will be fulfilled.'},\n",
       "   'issuanceDisclaimer': {'l': 'All information in a valid, unexpired, and non-revoked vLEI Credential, as defined in the associated Ecosystem Governance Framework, is accurate as of the date the validation process was complete. The vLEI Credential has been issued to the legal entity or person named in the vLEI Credential as the subject; and the qualified vLEI Issuer exercised reasonable care to perform the validation process set forth in the vLEI Ecosystem Governance Framework.'},\n",
       "   'privacyDisclaimer': {'l': 'Privacy Considerations are applicable to QVI ECR AUTH vLEI Credentials.  It is the sole responsibility of QVIs as Issuees of QVI ECR AUTH vLEI Credentials to present these Credentials in a privacy-preserving manner using the mechanisms provided in the Issuance and Presentation Exchange (IPEX) protocol specification and the Authentic Chained Data Container (ACDC) specification.  https://github.com/WebOfTrust/IETF-IPEX and https://github.com/trustoverip/tswg-acdc-specification.'}}},\n",
       " 'said': 'EORCFVaMjeyIa65NDy6ukd9OFjh7MdlJIxr5xNioX_cJ',\n",
       " 'major_version_detected': '1'}"
      ]
     },
     "execution_count": 12,
     "metadata": {},
     "output_type": "execute_result"
    }
   ],
   "source": [
    "## simple-saidify utils.saidify:  \n",
    "#  no versin explicit: detects current version from v field\n",
    "test4 = u.saidify(test1, label='d')\n",
    "test4"
   ]
  },
  {
   "cell_type": "code",
   "execution_count": 13,
   "id": "a839f8fc-744f-4fc9-9303-3bab61997404",
   "metadata": {},
   "outputs": [
    {
     "data": {
      "text/plain": [
       "{'v': 'ACDC10JSON000905_',\n",
       " 'd': 'EORCFVaMjeyIa65NDy6ukd9OFjh7MdlJIxr5xNioX_cJ',\n",
       " 'i': 'EKXPX7hWw8KK5Y_Mxs2TOuCrGdN45vPIZ78NofRlVBws',\n",
       " 'ri': 'EuqwB_iOD86eK0ynAhA6AYwWvPeBhvmbcmOD-9cCmiVU',\n",
       " 's': 'ELG17Q0M-uLZcjidzVbF7KBkoUhZa1ie3Az3Q_8aYi8s',\n",
       " 'a': {'d': 'EFY3EkE7moK-hHQNkfoGx48QwFRV4bHlviTbOgbvRftP',\n",
       "  'dt': '2022-08-25T14:07:30.536257+00:00',\n",
       "  'i': 'EY4ldIBDZP4Tpnm3RX320BO0yz8Uz2nUSN-C409GnCJM',\n",
       "  'AID': 'Esf8b_AngI1d0KbOFjPGIfpVani0HTagWeaYTLs14PlE',\n",
       "  'LEI': '6383001AJTYIGC8Y1X37',\n",
       "  'personLegalName': 'John Smith',\n",
       "  'engagementContextRole': 'Chief Executive Officer',\n",
       "  'D': {'d': 'EHpMHBSiFG475VJYutgT9WhccSjbtJo7sGfpk86tvN__',\n",
       "   'le': {'n': 'ESyLzoJC4L_1abXOEN4f6uNZCmhqyEHg2geBHFhJ8KDs',\n",
       "    's': 'ENPXp1vQzRF6JwIuS-mp2U8Uf1MoADoP_GqQ62VsDZWY',\n",
       "    'random': 'something'}}},\n",
       " 'e': {'d': 'EPEeGpDroK50eKwPBfLuSgkvEKiEAzDN6mkskS9pjdYy',\n",
       "  'le': {'n': 'ESyLzoJC4L_1abXOEN4f6uNZCmhqyEHg2geBHFhJ8KDs',\n",
       "   's': 'ENPXp1vQzRF6JwIuS-mp2U8Uf1MoADoP_GqQ62VsDZWY'}},\n",
       " 'r': {'d': 'EKHMDCNFlMBaMdDOq5Pf_vGMxkTqrDMrTx_28cZZJCcW',\n",
       "  'usageDisclaimer': {'l': 'Usage of a valid, unexpired, and non-revoked vLEI Credential, as defined in the associated Ecosystem Governance Framework, does not assert that the Legal Entity is trustworthy, honest, reputable in its business dealings, safe to do business with, or compliant with any laws or that an implied or expressly intended purpose will be fulfilled.'},\n",
       "  'issuanceDisclaimer': {'l': 'All information in a valid, unexpired, and non-revoked vLEI Credential, as defined in the associated Ecosystem Governance Framework, is accurate as of the date the validation process was complete. The vLEI Credential has been issued to the legal entity or person named in the vLEI Credential as the subject; and the qualified vLEI Issuer exercised reasonable care to perform the validation process set forth in the vLEI Ecosystem Governance Framework.'},\n",
       "  'privacyDisclaimer': {'l': 'Privacy Considerations are applicable to QVI ECR AUTH vLEI Credentials.  It is the sole responsibility of QVIs as Issuees of QVI ECR AUTH vLEI Credentials to present these Credentials in a privacy-preserving manner using the mechanisms provided in the Issuance and Presentation Exchange (IPEX) protocol specification and the Authentic Chained Data Container (ACDC) specification.  https://github.com/WebOfTrust/IETF-IPEX and https://github.com/trustoverip/tswg-acdc-specification.'}}}"
      ]
     },
     "execution_count": 13,
     "metadata": {},
     "output_type": "execute_result"
    }
   ],
   "source": [
    "test4['non_compact']"
   ]
  },
  {
   "cell_type": "code",
   "execution_count": 14,
   "id": "ec78c459-4fca-41ba-bea7-1db789c4c61a",
   "metadata": {},
   "outputs": [
    {
     "data": {
      "text/plain": [
       "{'final_said': 'EBSwGy12Dx34-vGnmeJpLZ6yNMdjuJf8eyOQ_4uWvsOT',\n",
       " 'version_1_said_calc': 'EKQdEAB4A9e1yPs2rP2PN1J6rvWs_NkpoukdC1Y54WlE',\n",
       " 'paths': [['a', 'D', 'd'], ['a', 'd'], ['e', 'd'], ['r', 'd'], ['d']],\n",
       " 'sads': {'a.D': {'d': 'EHpMHBSiFG475VJYutgT9WhccSjbtJo7sGfpk86tvN__',\n",
       "   'le': {'n': 'ESyLzoJC4L_1abXOEN4f6uNZCmhqyEHg2geBHFhJ8KDs',\n",
       "    's': 'ENPXp1vQzRF6JwIuS-mp2U8Uf1MoADoP_GqQ62VsDZWY',\n",
       "    'random': 'something'}},\n",
       "  'a': {'d': 'EFY3EkE7moK-hHQNkfoGx48QwFRV4bHlviTbOgbvRftP',\n",
       "   'dt': '2022-08-25T14:07:30.536257+00:00',\n",
       "   'i': 'EY4ldIBDZP4Tpnm3RX320BO0yz8Uz2nUSN-C409GnCJM',\n",
       "   'AID': 'Esf8b_AngI1d0KbOFjPGIfpVani0HTagWeaYTLs14PlE',\n",
       "   'LEI': '6383001AJTYIGC8Y1X37',\n",
       "   'personLegalName': 'John Smith',\n",
       "   'engagementContextRole': 'Chief Executive Officer',\n",
       "   'D': 'EHpMHBSiFG475VJYutgT9WhccSjbtJo7sGfpk86tvN__'},\n",
       "  'e': {'d': 'EPEeGpDroK50eKwPBfLuSgkvEKiEAzDN6mkskS9pjdYy',\n",
       "   'le': {'n': 'ESyLzoJC4L_1abXOEN4f6uNZCmhqyEHg2geBHFhJ8KDs',\n",
       "    's': 'ENPXp1vQzRF6JwIuS-mp2U8Uf1MoADoP_GqQ62VsDZWY'}},\n",
       "  'r': {'d': 'EKHMDCNFlMBaMdDOq5Pf_vGMxkTqrDMrTx_28cZZJCcW',\n",
       "   'usageDisclaimer': {'l': 'Usage of a valid, unexpired, and non-revoked vLEI Credential, as defined in the associated Ecosystem Governance Framework, does not assert that the Legal Entity is trustworthy, honest, reputable in its business dealings, safe to do business with, or compliant with any laws or that an implied or expressly intended purpose will be fulfilled.'},\n",
       "   'issuanceDisclaimer': {'l': 'All information in a valid, unexpired, and non-revoked vLEI Credential, as defined in the associated Ecosystem Governance Framework, is accurate as of the date the validation process was complete. The vLEI Credential has been issued to the legal entity or person named in the vLEI Credential as the subject; and the qualified vLEI Issuer exercised reasonable care to perform the validation process set forth in the vLEI Ecosystem Governance Framework.'},\n",
       "   'privacyDisclaimer': {'l': 'Privacy Considerations are applicable to QVI ECR AUTH vLEI Credentials.  It is the sole responsibility of QVIs as Issuees of QVI ECR AUTH vLEI Credentials to present these Credentials in a privacy-preserving manner using the mechanisms provided in the Issuance and Presentation Exchange (IPEX) protocol specification and the Authentic Chained Data Container (ACDC) specification.  https://github.com/WebOfTrust/IETF-IPEX and https://github.com/trustoverip/tswg-acdc-specification.'}},\n",
       "  '': {'v': 'ACDCCAAJSONAAF-.',\n",
       "   'd': 'EBSwGy12Dx34-vGnmeJpLZ6yNMdjuJf8eyOQ_4uWvsOT',\n",
       "   'i': 'EKXPX7hWw8KK5Y_Mxs2TOuCrGdN45vPIZ78NofRlVBws',\n",
       "   'ri': 'EuqwB_iOD86eK0ynAhA6AYwWvPeBhvmbcmOD-9cCmiVU',\n",
       "   's': 'ELG17Q0M-uLZcjidzVbF7KBkoUhZa1ie3Az3Q_8aYi8s',\n",
       "   'a': 'EFY3EkE7moK-hHQNkfoGx48QwFRV4bHlviTbOgbvRftP',\n",
       "   'e': 'EPEeGpDroK50eKwPBfLuSgkvEKiEAzDN6mkskS9pjdYy',\n",
       "   'r': 'EKHMDCNFlMBaMdDOq5Pf_vGMxkTqrDMrTx_28cZZJCcW'}},\n",
       " 'saiders': {'a.D.d': 'EHpMHBSiFG475VJYutgT9WhccSjbtJo7sGfpk86tvN__',\n",
       "  'a.d': 'EFY3EkE7moK-hHQNkfoGx48QwFRV4bHlviTbOgbvRftP',\n",
       "  'e.d': 'EPEeGpDroK50eKwPBfLuSgkvEKiEAzDN6mkskS9pjdYy',\n",
       "  'r.d': 'EKHMDCNFlMBaMdDOq5Pf_vGMxkTqrDMrTx_28cZZJCcW',\n",
       "  'd': 'EBSwGy12Dx34-vGnmeJpLZ6yNMdjuJf8eyOQ_4uWvsOT'},\n",
       " 'compact': {'v': 'ACDCCAAJSONAAF-.',\n",
       "  'd': 'EBSwGy12Dx34-vGnmeJpLZ6yNMdjuJf8eyOQ_4uWvsOT',\n",
       "  'i': 'EKXPX7hWw8KK5Y_Mxs2TOuCrGdN45vPIZ78NofRlVBws',\n",
       "  'ri': 'EuqwB_iOD86eK0ynAhA6AYwWvPeBhvmbcmOD-9cCmiVU',\n",
       "  's': 'ELG17Q0M-uLZcjidzVbF7KBkoUhZa1ie3Az3Q_8aYi8s',\n",
       "  'a': 'EFY3EkE7moK-hHQNkfoGx48QwFRV4bHlviTbOgbvRftP',\n",
       "  'e': 'EPEeGpDroK50eKwPBfLuSgkvEKiEAzDN6mkskS9pjdYy',\n",
       "  'r': 'EKHMDCNFlMBaMdDOq5Pf_vGMxkTqrDMrTx_28cZZJCcW'},\n",
       " 'non_compact': {'v': 'ACDCCAAJSONAAkF.',\n",
       "  'd': 'EBSwGy12Dx34-vGnmeJpLZ6yNMdjuJf8eyOQ_4uWvsOT',\n",
       "  'i': 'EKXPX7hWw8KK5Y_Mxs2TOuCrGdN45vPIZ78NofRlVBws',\n",
       "  'ri': 'EuqwB_iOD86eK0ynAhA6AYwWvPeBhvmbcmOD-9cCmiVU',\n",
       "  's': 'ELG17Q0M-uLZcjidzVbF7KBkoUhZa1ie3Az3Q_8aYi8s',\n",
       "  'a': {'d': 'EFY3EkE7moK-hHQNkfoGx48QwFRV4bHlviTbOgbvRftP',\n",
       "   'dt': '2022-08-25T14:07:30.536257+00:00',\n",
       "   'i': 'EY4ldIBDZP4Tpnm3RX320BO0yz8Uz2nUSN-C409GnCJM',\n",
       "   'AID': 'Esf8b_AngI1d0KbOFjPGIfpVani0HTagWeaYTLs14PlE',\n",
       "   'LEI': '6383001AJTYIGC8Y1X37',\n",
       "   'personLegalName': 'John Smith',\n",
       "   'engagementContextRole': 'Chief Executive Officer',\n",
       "   'D': {'d': 'EHpMHBSiFG475VJYutgT9WhccSjbtJo7sGfpk86tvN__',\n",
       "    'le': {'n': 'ESyLzoJC4L_1abXOEN4f6uNZCmhqyEHg2geBHFhJ8KDs',\n",
       "     's': 'ENPXp1vQzRF6JwIuS-mp2U8Uf1MoADoP_GqQ62VsDZWY',\n",
       "     'random': 'something'}}},\n",
       "  'e': {'d': 'EPEeGpDroK50eKwPBfLuSgkvEKiEAzDN6mkskS9pjdYy',\n",
       "   'le': {'n': 'ESyLzoJC4L_1abXOEN4f6uNZCmhqyEHg2geBHFhJ8KDs',\n",
       "    's': 'ENPXp1vQzRF6JwIuS-mp2U8Uf1MoADoP_GqQ62VsDZWY'}},\n",
       "  'r': {'d': 'EKHMDCNFlMBaMdDOq5Pf_vGMxkTqrDMrTx_28cZZJCcW',\n",
       "   'usageDisclaimer': {'l': 'Usage of a valid, unexpired, and non-revoked vLEI Credential, as defined in the associated Ecosystem Governance Framework, does not assert that the Legal Entity is trustworthy, honest, reputable in its business dealings, safe to do business with, or compliant with any laws or that an implied or expressly intended purpose will be fulfilled.'},\n",
       "   'issuanceDisclaimer': {'l': 'All information in a valid, unexpired, and non-revoked vLEI Credential, as defined in the associated Ecosystem Governance Framework, is accurate as of the date the validation process was complete. The vLEI Credential has been issued to the legal entity or person named in the vLEI Credential as the subject; and the qualified vLEI Issuer exercised reasonable care to perform the validation process set forth in the vLEI Ecosystem Governance Framework.'},\n",
       "   'privacyDisclaimer': {'l': 'Privacy Considerations are applicable to QVI ECR AUTH vLEI Credentials.  It is the sole responsibility of QVIs as Issuees of QVI ECR AUTH vLEI Credentials to present these Credentials in a privacy-preserving manner using the mechanisms provided in the Issuance and Presentation Exchange (IPEX) protocol specification and the Authentic Chained Data Container (ACDC) specification.  https://github.com/WebOfTrust/IETF-IPEX and https://github.com/trustoverip/tswg-acdc-specification.'}}},\n",
       " 'said': 'EBSwGy12Dx34-vGnmeJpLZ6yNMdjuJf8eyOQ_4uWvsOT',\n",
       " 'major_version_detected': '1'}"
      ]
     },
     "execution_count": 14,
     "metadata": {},
     "output_type": "execute_result"
    }
   ],
   "source": [
    "## simple-saidify utils.saidify:  \n",
    "#  coerc version: explicitly declare\n",
    "#  convert from version major 1 to major 2\n",
    "test4 = u.saidify(test1, label='d', version = 2)\n",
    "test4"
   ]
  },
  {
   "cell_type": "code",
   "execution_count": 15,
   "id": "9c54106a-e5f9-4eb6-bc91-ca9b55da775e",
   "metadata": {},
   "outputs": [
    {
     "data": {
      "text/plain": [
       "16"
      ]
     },
     "execution_count": 15,
     "metadata": {},
     "output_type": "execute_result"
    }
   ],
   "source": [
    "len('ACDCCAAJSONAAkF.')"
   ]
  }
 ],
 "metadata": {
  "kernelspec": {
   "display_name": "Python 3 (ipykernel)",
   "language": "python",
   "name": "python3"
  },
  "language_info": {
   "codemirror_mode": {
    "name": "ipython",
    "version": 3
   },
   "file_extension": ".py",
   "mimetype": "text/x-python",
   "name": "python",
   "nbconvert_exporter": "python",
   "pygments_lexer": "ipython3",
   "version": "3.12.7"
  }
 },
 "nbformat": 4,
 "nbformat_minor": 5
}
