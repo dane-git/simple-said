{
 "cells": [
  {
   "cell_type": "code",
   "execution_count": 1,
   "id": "f249414e-fcad-49fc-8e05-e8b1437529fd",
   "metadata": {},
   "outputs": [],
   "source": [
    "import json\n",
    "\n",
    "def load_json(fp):\n",
    "    with open(fp) as jsf:\n",
    "        return json.load(jsf)"
   ]
  },
  {
   "cell_type": "code",
   "execution_count": 2,
   "id": "61380bca-fd70-4634-9f29-f5427f4198bb",
   "metadata": {},
   "outputs": [],
   "source": [
    "import re\n",
    "\n",
    "StartingTritets = {\n",
    "  '000': 'ANNOTATED_T',\n",
    "  '001': 'CESR_T_COUNT_CODE',\n",
    "  '010': 'CESR_T_OP_CODE',\n",
    "  '011': 'JSON',\n",
    "  '100': 'MGPK', # fixMap\n",
    "  '101': 'CBOR', # Map Major Type 5\n",
    "  '111': 'CESR_B', # count code or op code\n",
    "}\n",
    "\n",
    "def get_file_length_in_bytes(file_path):\n",
    "    \"\"\"\n",
    "    Reads a file in as bytes and returns its length.\n",
    "\n",
    "    Parameters:\n",
    "        file_path (str): The path to the file.\n",
    "\n",
    "    Returns:\n",
    "        int: The length of the file in bytes.\n",
    "    \"\"\"\n",
    "    with open(file_path, 'rb') as file:\n",
    "        file_bytes = file.read()\n",
    "        return len(file_bytes)\n",
    "def read_file_as_bytes(file_path):\n",
    "    with open(file_path, 'rb') as file:\n",
    "        file_bytes = file.read()\n",
    "        return file_bytes\n",
    "\n",
    "def is_bytes(obj):\n",
    "    return isinstance(obj, bytes)\n",
    "def is_string(obj):\n",
    "    return isinstance(obj, str)\n",
    "\n",
    "def byte_to_bits(byte):\n",
    "    return format(byte, '08b')\n",
    "  \n",
    "def bytes_to_bits(byte_array):\n",
    "    return ''.join(format(byte, '08b') for byte in byte_array)\n",
    "\n",
    "def get_file_length_in_chars(file_path):\n",
    "        \"\"\"\n",
    "        Reads a file as a string and returns its character length.\n",
    "    \n",
    "        Parameters:\n",
    "            file_path (str): The path to the file.\n",
    "    \n",
    "        Returns:\n",
    "            int: The length of the file in characters.\n",
    "        \"\"\"\n",
    "        with open(file_path, 'r', encoding='utf-8') as file:\n",
    "            file_content = file.read()\n",
    "            return len(file_content)\n",
    "\n",
    "\n",
    "\n",
    "def get_stream_tritet(stream):\n",
    "      # to bytes\n",
    "      if not is_bytes(stream):\n",
    "          stream = stream.encode()\n",
    "    \n",
    "\n",
    "      first_byte = stream[0]\n",
    "      first_bits = byte_to_bits(first_byte)\n",
    "      first_tritet = first_bits[0:3]\n",
    "    #   print(\"stream\", stream)\n",
    "    #   print(\"first_byte\", first_byte)\n",
    "    #   print(\"first_bits\", first_bits)\n",
    "    #   print('first_tritet', first_tritet)\n",
    "    #   print(StartingTritets[first_tritet])\n",
    "      print('first_tritet', first_tritet)\n",
    "      return StartingTritets[first_tritet]\n",
    "    \n",
    "def get_version_string_info(v_string):\n",
    "    # print(v_string)\n",
    "    if not is_string(v_string):\n",
    "        v_string = v_string.decode()\n",
    "    \n",
    "    v_string = v_string.replace('\"', '')\n",
    "    stop_delim = v_string.index('_')\n",
    "\n",
    "    _protocol = v_string[0:4]\n",
    "    _version = v_string[4:6]\n",
    "    _kind = v_string[6:10]\n",
    "    _size = v_string[10:stop_delim]\n",
    "    _size_length =int(_size, 16)\n",
    "    \n",
    "    return {\n",
    "      'protocol': _protocol,\n",
    "      'version': _version,\n",
    "      'kind': _kind, # serial\n",
    "      '_size': _size, # digits\n",
    "      'size': _size_length\n",
    "    }\n",
    "\n",
    "    # pattern1 = r'{\"v\":.*?_'\n",
    "# pattern2 = r'-V..-'\n",
    "# match = re.search(pattern1, c)"
   ]
  },
  {
   "cell_type": "code",
   "execution_count": 3,
   "id": "c86d5c79-24c3-48f6-90ae-535cb48ab6ca",
   "metadata": {},
   "outputs": [],
   "source": [
    "def print_messy_info(fp):\n",
    "    byte_length = get_file_length_in_bytes(fp)\n",
    "    \n",
    "    f_bytes = read_file_as_bytes(fp)\n",
    "    # f_str = f_\n",
    "    print(f_bytes)\n",
    "    print('bytes', byte_length)\n",
    "    char_length = get_file_length_in_chars(fp)\n",
    "    print('chars', char_length)\n",
    "    stream_parser_type = get_stream_tritet(f_bytes)\n",
    "    print('tritet kind', stream_parser_type)\n",
    "    if stream_parser_type == 'JSON':\n",
    "        version_string_pattern = r'{\"v\":.*?_\"'\n",
    "    match = re.search(version_string_pattern, f_bytes.decode())\n",
    "    v_string = f_bytes[5:25].strip()\n",
    "    # print(d['v'])\n",
    "    # v_string = d['v']\n",
    "    v_info = get_version_string_info(v_string)\n",
    "    # v_info2 = get_version_string_info(d['v'])\n",
    "    print(v_string)\n",
    "    print(v_info)\n",
    "    # print(v_info2)\n"
   ]
  },
  {
   "cell_type": "code",
   "execution_count": 4,
   "id": "fe42fdb9-58da-40d8-8af1-bab9ee7507f0",
   "metadata": {},
   "outputs": [
    {
     "name": "stdout",
     "output_type": "stream",
     "text": [
      "b'{\"v\":\"ACDC10JSON0004e4_\",\"d\":\"EuF1gpodKbbqS0fqmUiOYf-MusuNvi0OmY8Js6SKSdfE\",\"i\":\"EKXPX7hWw8KK5Y_Mxs2TOuCrGdN45vPIZ78NofRlVBws\",\"ri\":\"EuqwB_iOD86eK0ynAhA6AYwWvPeBhvmbcmOD-9cCmiVU\",\"s\":\"ELG17Q0M-uLZcjidzVbF7KBkoUhZa1ie3Az3Q_8aYi8s\",\"a\":{\"d\":\"E9-86Jag34CrJpfNFz_-7E5HA0Dj0FvcYNoFVe7qwkiI\",\"dt\":\"2022-08-25T14:07:30.536257+00:00\",\"i\":\"EY4ldIBDZP4Tpnm3RX320BO0yz8Uz2nUSN-C409GnCJM\",\"AID\":\"Esf8b_AngI1d0KbOFjPGIfpVani0HTagWeaYTLs14PlE\",\"LEI\":\"6383001AJTYIGC8Y1X37\",\"personLegalName\":\"John Smith\",\"engagementContextRole\":\"Chief Executive Officer\"},\"e\":{\"d\":\"EsOf5_YgX_64z4YuHNFWLUnIKcyvsVQOe_vJ_638X6gE\",\"le\":{\"n\":\"ESyLzoJC4L_1abXOEN4f6uNZCmhqyEHg2geBHFhJ8KDs\",\"s\":\"ENPXp1vQzRF6JwIuS-mp2U8Uf1MoADoP_GqQ62VsDZWY\"}},\"r\":{\"d\":\"EDIai3Wkd-Z_4cezz9nYEcCK3KNH5saLvZoS_84JL6NU\",\"usageDisclaimer\":{\"l\":\"Usage of a valid, unexpired, and non-revoked vLEI Credential, as defined in the associated Ecosystem Governance Framework, does not assert that the Legal Entity is trustworthy, honest, reputable in its business dealings, safe to do business with, or compliant with any laws or that an implied or expressly intended purpose will be fulfilled.\"},\"issuanceDisclaimer\":{\"l\":\"All information in a valid, unexpired, and non-revoked vLEI Credential, as defined in the associated Ecosystem Governance Framework, is accurate as of the date the validation process was complete. The vLEI Credential has been issued to the legal entity or person named in the vLEI Credential as the subject; and the qualified vLEI Issuer exercised reasonable care to perform the validation process set forth in the vLEI Ecosystem Governance Framework.\"},\"privacyDisclaimer\":{\"l\":\"Privacy Considerations are applicable to QVI ECR AUTH vLEI Credentials.  It is the sole responsibility of QVIs as Issuees of QVI ECR AUTH vLEI Credentials to present these Credentials in a privacy-preserving manner using the mechanisms provided in the Issuance and Presentation Exchange (IPEX) protocol specification and the Authentic Chained Data Container (ACDC) specification.  https://github.com/WebOfTrust/IETF-IPEX and https://github.com/trustoverip/tswg-acdc-specification.\"}}}'\n",
      "bytes 2122\n",
      "chars 2122\n",
      "first_tritet 011\n",
      "tritet kind JSON\n",
      "b'\"ACDC10JSON0004e4_\",'\n",
      "{'protocol': 'ACDC', 'version': '10', 'kind': 'JSON', '_size': '0004e4', 'size': 1252}\n"
     ]
    }
   ],
   "source": [
    "fp = '../tests/acdcs/ecr-authorization-vlei-credential-ORIGINAL.json'\n",
    "print_messy_info(fp)"
   ]
  },
  {
   "cell_type": "code",
   "execution_count": 5,
   "id": "12cdfc96-6836-4270-b7cc-eeb39d535a27",
   "metadata": {},
   "outputs": [
    {
     "name": "stdout",
     "output_type": "stream",
     "text": [
      "b'{\"v\": \"ACDC10JSON00084a_\", \"d\": \"EDb9n2N2rDONME256eFcFYSTTn5qkKsu7u0DIOvi0rA3\", \"i\": \"EKXPX7hWw8KK5Y_Mxs2TOuCrGdN45vPIZ78NofRlVBws\", \"ri\": \"EuqwB_iOD86eK0ynAhA6AYwWvPeBhvmbcmOD-9cCmiVU\", \"s\": \"ELG17Q0M-uLZcjidzVbF7KBkoUhZa1ie3Az3Q_8aYi8s\", \"a\": {\"d\": \"E9-86Jag34CrJpfNFz_-7E5HA0Dj0FvcYNoFVe7qwkiI\", \"dt\": \"2022-08-25T14:07:30.536257+00:00\", \"i\": \"EY4ldIBDZP4Tpnm3RX320BO0yz8Uz2nUSN-C409GnCJM\", \"AID\": \"Esf8b_AngI1d0KbOFjPGIfpVani0HTagWeaYTLs14PlE\", \"LEI\": \"6383001AJTYIGC8Y1X37\", \"personLegalName\": \"John Smith\", \"engagementContextRole\": \"Chief Executive Officer\"}, \"e\": {\"d\": \"EsOf5_YgX_64z4YuHNFWLUnIKcyvsVQOe_vJ_638X6gE\", \"le\": {\"n\": \"ESyLzoJC4L_1abXOEN4f6uNZCmhqyEHg2geBHFhJ8KDs\", \"s\": \"ENPXp1vQzRF6JwIuS-mp2U8Uf1MoADoP_GqQ62VsDZWY\"}}, \"r\": {\"d\": \"EDIai3Wkd-Z_4cezz9nYEcCK3KNH5saLvZoS_84JL6NU\", \"usageDisclaimer\": {\"l\": \"Usage of a valid, unexpired, and non-revoked vLEI Credential, as defined in the associated Ecosystem Governance Framework, does not assert that the Legal Entity is trustworthy, honest, reputable in its business dealings, safe to do business with, or compliant with any laws or that an implied or expressly intended purpose will be fulfilled.\"}, \"issuanceDisclaimer\": {\"l\": \"All information in a valid, unexpired, and non-revoked vLEI Credential, as defined in the associated Ecosystem Governance Framework, is accurate as of the date the validation process was complete. The vLEI Credential has been issued to the legal entity or person named in the vLEI Credential as the subject; and the qualified vLEI Issuer exercised reasonable care to perform the validation process set forth in the vLEI Ecosystem Governance Framework.\"}, \"privacyDisclaimer\": {\"l\": \"Privacy Considerations are applicable to QVI ECR AUTH vLEI Credentials.  It is the sole responsibility of QVIs as Issuees of QVI ECR AUTH vLEI Credentials to present these Credentials in a privacy-preserving manner using the mechanisms provided in the Issuance and Presentation Exchange (IPEX) protocol specification and the Authentic Chained Data Container (ACDC) specification.  https://github.com/WebOfTrust/IETF-IPEX and https://github.com/trustoverip/tswg-acdc-specification.\"}}}'\n",
      "bytes 2166\n",
      "chars 2166\n",
      "first_tritet 011\n",
      "tritet kind JSON\n",
      "b'\"ACDC10JSON00084a_\"'\n",
      "{'protocol': 'ACDC', 'version': '10', 'kind': 'JSON', '_size': '00084a', 'size': 2122}\n"
     ]
    }
   ],
   "source": [
    "# file: ecr-authorization-vlei-credential.json \n",
    "## is output when kli saidify --file ~ecr-authorization-vlei-credential-ORIGINAL.json\n",
    "## kli saidify recalculates the version string to the correct length (2122) and replaces the version string to represent this.\n",
    "## this also changes the said to the value: \"EDb9n2N2rDONME256eFcFYSTTn5qkKsu7u0DIOvi0rA3\"\n",
    "# kli version\n",
    "# 1.1.19\n",
    "\n",
    "fp2 = '../tests/acdcs/ecr-authorization-vlei-credential.json'\n",
    "print_messy_info(fp2)"
   ]
  },
  {
   "cell_type": "code",
   "execution_count": 6,
   "id": "25e1cd21-1b3c-4b6d-9e86-a1473148b337",
   "metadata": {},
   "outputs": [],
   "source": [
    "# see above -- original has been run through dict_to_said_str, which removes all white space between elements\n",
    "## in the dictionary, then the sizes match."
   ]
  },
  {
   "cell_type": "code",
   "execution_count": 7,
   "id": "86682f68-5531-4a5c-884d-75f0c34c51c4",
   "metadata": {},
   "outputs": [],
   "source": [
    "def dict_to_said_str(data_dict):\n",
    "    \"\"\"\n",
    "    Convert the dictionary to a JSON string \n",
    "    without extra spaces after commas and colons\n",
    "    \"\"\"\n",
    "    json_str = json.dumps(data_dict, separators=(',', ':'))\n",
    "    return json_str"
   ]
  },
  {
   "cell_type": "code",
   "execution_count": 8,
   "id": "c0805352-a139-4737-ae90-10f2b8f63728",
   "metadata": {},
   "outputs": [],
   "source": [
    "fp2 = '../tests/acdcs/ecr-authorization-vlei-credential.json'\n",
    "_dict = load_json(fp2)\n",
    "dict_string = dict_to_said_str(_dict)"
   ]
  },
  {
   "cell_type": "code",
   "execution_count": 11,
   "id": "e3f23b1a-4a99-44f4-99e2-58d5b7ad4fab",
   "metadata": {},
   "outputs": [
    {
     "data": {
      "text/plain": [
       "{'v': 'ACDC10JSON00084a_',\n",
       " 'd': 'EDb9n2N2rDONME256eFcFYSTTn5qkKsu7u0DIOvi0rA3',\n",
       " 'i': 'EKXPX7hWw8KK5Y_Mxs2TOuCrGdN45vPIZ78NofRlVBws',\n",
       " 'ri': 'EuqwB_iOD86eK0ynAhA6AYwWvPeBhvmbcmOD-9cCmiVU',\n",
       " 's': 'ELG17Q0M-uLZcjidzVbF7KBkoUhZa1ie3Az3Q_8aYi8s',\n",
       " 'a': {'d': 'E9-86Jag34CrJpfNFz_-7E5HA0Dj0FvcYNoFVe7qwkiI',\n",
       "  'dt': '2022-08-25T14:07:30.536257+00:00',\n",
       "  'i': 'EY4ldIBDZP4Tpnm3RX320BO0yz8Uz2nUSN-C409GnCJM',\n",
       "  'AID': 'Esf8b_AngI1d0KbOFjPGIfpVani0HTagWeaYTLs14PlE',\n",
       "  'LEI': '6383001AJTYIGC8Y1X37',\n",
       "  'personLegalName': 'John Smith',\n",
       "  'engagementContextRole': 'Chief Executive Officer'},\n",
       " 'e': {'d': 'EsOf5_YgX_64z4YuHNFWLUnIKcyvsVQOe_vJ_638X6gE',\n",
       "  'le': {'n': 'ESyLzoJC4L_1abXOEN4f6uNZCmhqyEHg2geBHFhJ8KDs',\n",
       "   's': 'ENPXp1vQzRF6JwIuS-mp2U8Uf1MoADoP_GqQ62VsDZWY'}},\n",
       " 'r': {'d': 'EDIai3Wkd-Z_4cezz9nYEcCK3KNH5saLvZoS_84JL6NU',\n",
       "  'usageDisclaimer': {'l': 'Usage of a valid, unexpired, and non-revoked vLEI Credential, as defined in the associated Ecosystem Governance Framework, does not assert that the Legal Entity is trustworthy, honest, reputable in its business dealings, safe to do business with, or compliant with any laws or that an implied or expressly intended purpose will be fulfilled.'},\n",
       "  'issuanceDisclaimer': {'l': 'All information in a valid, unexpired, and non-revoked vLEI Credential, as defined in the associated Ecosystem Governance Framework, is accurate as of the date the validation process was complete. The vLEI Credential has been issued to the legal entity or person named in the vLEI Credential as the subject; and the qualified vLEI Issuer exercised reasonable care to perform the validation process set forth in the vLEI Ecosystem Governance Framework.'},\n",
       "  'privacyDisclaimer': {'l': 'Privacy Considerations are applicable to QVI ECR AUTH vLEI Credentials.  It is the sole responsibility of QVIs as Issuees of QVI ECR AUTH vLEI Credentials to present these Credentials in a privacy-preserving manner using the mechanisms provided in the Issuance and Presentation Exchange (IPEX) protocol specification and the Authentic Chained Data Container (ACDC) specification.  https://github.com/WebOfTrust/IETF-IPEX and https://github.com/trustoverip/tswg-acdc-specification.'}}}"
      ]
     },
     "execution_count": 11,
     "metadata": {},
     "output_type": "execute_result"
    }
   ],
   "source": [
    "_dict"
   ]
  },
  {
   "cell_type": "code",
   "execution_count": 9,
   "id": "c79e536e-18fc-4707-9809-cc7f6c14dde6",
   "metadata": {},
   "outputs": [
    {
     "name": "stdout",
     "output_type": "stream",
     "text": [
      "2122\n",
      "{'protocol': 'ACDC', 'version': '10', 'kind': 'JSON', '_size': '00084a', 'size': 2122}\n"
     ]
    }
   ],
   "source": [
    "print(len(dict_string))\n",
    "print(get_version_string_info(_dict['v']))"
   ]
  },
  {
   "cell_type": "code",
   "execution_count": 15,
   "id": "43562fa0-12b4-43c2-9e46-af45cc2a3e5a",
   "metadata": {},
   "outputs": [],
   "source": [
    "import sys\n",
    "import os\n",
    "\n",
    "# Use the current working directory instead of __file__ when running interactively\n",
    "base_path = os.getcwd()\n",
    "\n",
    "# Construct the path to the ../src directory\n",
    "relative_path = os.path.abspath(os.path.join(base_path, '../src'))\n",
    "sys.path.append(relative_path)\n",
    "import utils as u"
   ]
  },
  {
   "cell_type": "code",
   "execution_count": 18,
   "id": "a45fe6cb-aff5-4578-b93d-48877d50f23f",
   "metadata": {},
   "outputs": [
    {
     "name": "stdout",
     "output_type": "stream",
     "text": [
      "EDb9n2N2rDONME256eFcFYSTTn5qkKsu7u0DIOvi0rA3 True\n"
     ]
    }
   ],
   "source": [
    "label = 'd'\n",
    "calc_said = u.get_blake3_256_said(_dict, label)\n",
    "print(calc_said, _dict[label] == calc_said)\n"
   ]
  },
  {
   "cell_type": "code",
   "execution_count": 19,
   "id": "b4d8314e-dec8-4b85-b3e9-51415afebe75",
   "metadata": {},
   "outputs": [
    {
     "data": {
      "text/plain": [
       "{'v': 'ACDC10JSON00084a_',\n",
       " 'd': 'EDb9n2N2rDONME256eFcFYSTTn5qkKsu7u0DIOvi0rA3',\n",
       " 'i': 'EKXPX7hWw8KK5Y_Mxs2TOuCrGdN45vPIZ78NofRlVBws',\n",
       " 'ri': 'EuqwB_iOD86eK0ynAhA6AYwWvPeBhvmbcmOD-9cCmiVU',\n",
       " 's': 'ELG17Q0M-uLZcjidzVbF7KBkoUhZa1ie3Az3Q_8aYi8s',\n",
       " 'a': {'d': 'E9-86Jag34CrJpfNFz_-7E5HA0Dj0FvcYNoFVe7qwkiI',\n",
       "  'dt': '2022-08-25T14:07:30.536257+00:00',\n",
       "  'i': 'EY4ldIBDZP4Tpnm3RX320BO0yz8Uz2nUSN-C409GnCJM',\n",
       "  'AID': 'Esf8b_AngI1d0KbOFjPGIfpVani0HTagWeaYTLs14PlE',\n",
       "  'LEI': '6383001AJTYIGC8Y1X37',\n",
       "  'personLegalName': 'John Smith',\n",
       "  'engagementContextRole': 'Chief Executive Officer'},\n",
       " 'e': {'d': 'EsOf5_YgX_64z4YuHNFWLUnIKcyvsVQOe_vJ_638X6gE',\n",
       "  'le': {'n': 'ESyLzoJC4L_1abXOEN4f6uNZCmhqyEHg2geBHFhJ8KDs',\n",
       "   's': 'ENPXp1vQzRF6JwIuS-mp2U8Uf1MoADoP_GqQ62VsDZWY'}},\n",
       " 'r': {'d': 'EDIai3Wkd-Z_4cezz9nYEcCK3KNH5saLvZoS_84JL6NU',\n",
       "  'usageDisclaimer': {'l': 'Usage of a valid, unexpired, and non-revoked vLEI Credential, as defined in the associated Ecosystem Governance Framework, does not assert that the Legal Entity is trustworthy, honest, reputable in its business dealings, safe to do business with, or compliant with any laws or that an implied or expressly intended purpose will be fulfilled.'},\n",
       "  'issuanceDisclaimer': {'l': 'All information in a valid, unexpired, and non-revoked vLEI Credential, as defined in the associated Ecosystem Governance Framework, is accurate as of the date the validation process was complete. The vLEI Credential has been issued to the legal entity or person named in the vLEI Credential as the subject; and the qualified vLEI Issuer exercised reasonable care to perform the validation process set forth in the vLEI Ecosystem Governance Framework.'},\n",
       "  'privacyDisclaimer': {'l': 'Privacy Considerations are applicable to QVI ECR AUTH vLEI Credentials.  It is the sole responsibility of QVIs as Issuees of QVI ECR AUTH vLEI Credentials to present these Credentials in a privacy-preserving manner using the mechanisms provided in the Issuance and Presentation Exchange (IPEX) protocol specification and the Authentic Chained Data Container (ACDC) specification.  https://github.com/WebOfTrust/IETF-IPEX and https://github.com/trustoverip/tswg-acdc-specification.'}}}"
      ]
     },
     "execution_count": 19,
     "metadata": {},
     "output_type": "execute_result"
    }
   ],
   "source": [
    "_dict"
   ]
  },
  {
   "cell_type": "code",
   "execution_count": 24,
   "id": "39274f9a-f85b-4df3-8f3e-a2be3c28b727",
   "metadata": {},
   "outputs": [],
   "source": [
    "def collapse(obj, label):\n",
    "    \"\"\"\n",
    "    Recursively collapses nested dictionaries to a specified label if it exists.\n",
    "\n",
    "    Parameters:\n",
    "        obj (dict): The dictionary to collapse.\n",
    "        label (str): The field name to collapse on (e.g., 'id').\n",
    "\n",
    "    Returns:\n",
    "        dict: The collapsed dictionary.\n",
    "    \"\"\"\n",
    "    collapsed_obj = {}\n",
    "\n",
    "    for key, value in obj.items():\n",
    "        if isinstance(value, dict) and label in value:\n",
    "            # Collapse to the specified label's value if it exists in the nested dictionary\n",
    "            collapsed_obj[key] = value[label]\n",
    "        else:\n",
    "            # Otherwise, keep the value as-is\n",
    "            collapsed_obj[key] = value\n",
    "\n",
    "    return collapsed_obj\n"
   ]
  },
  {
   "cell_type": "code",
   "execution_count": 25,
   "id": "db77f481-1e88-4624-852d-b71671aa2ec5",
   "metadata": {},
   "outputs": [
    {
     "data": {
      "text/plain": [
       "{'v': 'ACDC10JSON00084a_',\n",
       " 'd': 'EDb9n2N2rDONME256eFcFYSTTn5qkKsu7u0DIOvi0rA3',\n",
       " 'i': 'EKXPX7hWw8KK5Y_Mxs2TOuCrGdN45vPIZ78NofRlVBws',\n",
       " 'ri': 'EuqwB_iOD86eK0ynAhA6AYwWvPeBhvmbcmOD-9cCmiVU',\n",
       " 's': 'ELG17Q0M-uLZcjidzVbF7KBkoUhZa1ie3Az3Q_8aYi8s',\n",
       " 'a': 'E9-86Jag34CrJpfNFz_-7E5HA0Dj0FvcYNoFVe7qwkiI',\n",
       " 'e': 'EsOf5_YgX_64z4YuHNFWLUnIKcyvsVQOe_vJ_638X6gE',\n",
       " 'r': 'EDIai3Wkd-Z_4cezz9nYEcCK3KNH5saLvZoS_84JL6NU'}"
      ]
     },
     "execution_count": 25,
     "metadata": {},
     "output_type": "execute_result"
    }
   ],
   "source": [
    "collapsed = collapse(_dict, 'd')\n",
    "collapsed"
   ]
  },
  {
   "cell_type": "code",
   "execution_count": 27,
   "id": "0c822a07-746b-43a4-b277-e94a65e584f4",
   "metadata": {},
   "outputs": [
    {
     "name": "stdout",
     "output_type": "stream",
     "text": [
      "EEC5Y6zNHGN6gD0lyyOrTsiKX2fIIf5NXadoWgi999F5 False\n"
     ]
    }
   ],
   "source": [
    "collapsed_said = u.get_blake3_256_said(collapsed, label)\n",
    "# collapsed_said\n",
    "print(collapsed_said, _dict[label] == collapsed_said)"
   ]
  },
  {
   "cell_type": "code",
   "execution_count": 10,
   "id": "d4797dff-9292-43bf-9152-0474a2146934",
   "metadata": {},
   "outputs": [],
   "source": [
    "# simple-said/src$ python main.py ../tests/acdcs/ecr-authorization-vlei-credential.json d\n",
    "# ****************************************************************************************\n",
    "# ---------------- ../tests/acdcs/ecr-authorization-vlei-credential.json -----------------\n",
    "# calc said:\t EDb9n2N2rDONME256eFcFYSTTn5qkKsu7u0DIOvi0rA3\n",
    "# data said:\t EDb9n2N2rDONME256eFcFYSTTn5qkKsu7u0DIOvi0rA3\n",
    "# match:\t\t True\n",
    "\n"
   ]
  }
 ],
 "metadata": {
  "kernelspec": {
   "display_name": "Python 3 (ipykernel)",
   "language": "python",
   "name": "python3"
  },
  "language_info": {
   "codemirror_mode": {
    "name": "ipython",
    "version": 3
   },
   "file_extension": ".py",
   "mimetype": "text/x-python",
   "name": "python",
   "nbconvert_exporter": "python",
   "pygments_lexer": "ipython3",
   "version": "3.12.7"
  }
 },
 "nbformat": 4,
 "nbformat_minor": 5
}
